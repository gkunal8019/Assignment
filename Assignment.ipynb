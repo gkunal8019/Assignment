{
  "nbformat": 4,
  "nbformat_minor": 0,
  "metadata": {
    "colab": {
      "provenance": [],
      "authorship_tag": "ABX9TyO6n4AgGigBi/PvvpO/OcdL",
      "include_colab_link": true
    },
    "kernelspec": {
      "name": "python3",
      "display_name": "Python 3"
    },
    "language_info": {
      "name": "python"
    }
  },
  "cells": [
    {
      "cell_type": "markdown",
      "metadata": {
        "id": "view-in-github",
        "colab_type": "text"
      },
      "source": [
        "<a href=\"https://colab.research.google.com/github/gkunal8019/Cointab-Assignment/blob/main/Assignment.ipynb\" target=\"_parent\"><img src=\"https://colab.research.google.com/assets/colab-badge.svg\" alt=\"Open In Colab\"/></a>"
      ]
    },
    {
      "cell_type": "code",
      "execution_count": 20,
      "metadata": {
        "id": "hb7Lp39n4fK_"
      },
      "outputs": [],
      "source": [
        "import pandas as pd \n",
        "import warnings\n",
        "warnings.filterwarnings('ignore')"
      ]
    },
    {
      "cell_type": "code",
      "source": [
        "# Load the LHS data (X's internal data)\n",
        "od = pd.read_excel(\"https://archive.org/download/company-x-order-report/Company%20X%20-%20Order%20Report.xlsx\")\n",
        "sku = pd.read_excel(\"https://archive.org/download/company-x-order-report/Company%20X%20-%20SKU%20Master.xlsx\")\n",
        "zip_cd = pd.read_excel(\"https://archive.org/download/company-x-order-report/Company%20X%20-%20Pincode%20Zones.xlsx\")\n",
        "\n",
        "# Load the RHS data (courier company invoice)\n",
        "invoice = pd.read_excel(\"https://archive.org/download/company-x-order-report/Courier%20Company%20-%20Invoice.xlsx\")\n",
        "rates = pd.read_excel(\"https://archive.org/download/company-x-order-report/Courier%20Company%20-%20Rates.xlsx\")"
      ],
      "metadata": {
        "id": "WkW35ga44qQu"
      },
      "execution_count": 21,
      "outputs": []
    },
    {
      "cell_type": "code",
      "source": [
        "print(\"order report shape {} \\nzip code shape {} \\nSKU Master data shape {}\".format(od.shape,zip_cd.shape,sku.shape))\n",
        "print(\"invoice shape {} \\nrates shape {} \".format(invoice.shape,rates.shape))"
      ],
      "metadata": {
        "colab": {
          "base_uri": "https://localhost:8080/"
        },
        "id": "Ui6IYI9Z4_ld",
        "outputId": "7f8f43a7-e33d-4ed3-bc0f-f166189a1c02"
      },
      "execution_count": 22,
      "outputs": [
        {
          "output_type": "stream",
          "name": "stdout",
          "text": [
            "order report shape (400, 3) \n",
            "zip code shape (124, 3) \n",
            "SKU Master data shape (66, 2)\n",
            "invoice shape (124, 8) \n",
            "rates shape (1, 20) \n"
          ]
        }
      ]
    },
    {
      "cell_type": "code",
      "source": [
        "od.head()"
      ],
      "metadata": {
        "colab": {
          "base_uri": "https://localhost:8080/",
          "height": 206
        },
        "id": "fA7h2Px95FR1",
        "outputId": "d20963b9-cc3b-4e09-a8dd-681fdbc87e46"
      },
      "execution_count": 23,
      "outputs": [
        {
          "output_type": "execute_result",
          "data": {
            "text/plain": [
              "   ExternOrderNo            SKU  Order Qty\n",
              "0     2001827036  8904223818706        1.0\n",
              "1     2001827036  8904223819093        1.0\n",
              "2     2001827036  8904223819109        1.0\n",
              "3     2001827036  8904223818430        1.0\n",
              "4     2001827036  8904223819277        1.0"
            ],
            "text/html": [
              "\n",
              "  <div id=\"df-d3903140-eb1e-4330-82c3-48b3721953f2\">\n",
              "    <div class=\"colab-df-container\">\n",
              "      <div>\n",
              "<style scoped>\n",
              "    .dataframe tbody tr th:only-of-type {\n",
              "        vertical-align: middle;\n",
              "    }\n",
              "\n",
              "    .dataframe tbody tr th {\n",
              "        vertical-align: top;\n",
              "    }\n",
              "\n",
              "    .dataframe thead th {\n",
              "        text-align: right;\n",
              "    }\n",
              "</style>\n",
              "<table border=\"1\" class=\"dataframe\">\n",
              "  <thead>\n",
              "    <tr style=\"text-align: right;\">\n",
              "      <th></th>\n",
              "      <th>ExternOrderNo</th>\n",
              "      <th>SKU</th>\n",
              "      <th>Order Qty</th>\n",
              "    </tr>\n",
              "  </thead>\n",
              "  <tbody>\n",
              "    <tr>\n",
              "      <th>0</th>\n",
              "      <td>2001827036</td>\n",
              "      <td>8904223818706</td>\n",
              "      <td>1.0</td>\n",
              "    </tr>\n",
              "    <tr>\n",
              "      <th>1</th>\n",
              "      <td>2001827036</td>\n",
              "      <td>8904223819093</td>\n",
              "      <td>1.0</td>\n",
              "    </tr>\n",
              "    <tr>\n",
              "      <th>2</th>\n",
              "      <td>2001827036</td>\n",
              "      <td>8904223819109</td>\n",
              "      <td>1.0</td>\n",
              "    </tr>\n",
              "    <tr>\n",
              "      <th>3</th>\n",
              "      <td>2001827036</td>\n",
              "      <td>8904223818430</td>\n",
              "      <td>1.0</td>\n",
              "    </tr>\n",
              "    <tr>\n",
              "      <th>4</th>\n",
              "      <td>2001827036</td>\n",
              "      <td>8904223819277</td>\n",
              "      <td>1.0</td>\n",
              "    </tr>\n",
              "  </tbody>\n",
              "</table>\n",
              "</div>\n",
              "      <button class=\"colab-df-convert\" onclick=\"convertToInteractive('df-d3903140-eb1e-4330-82c3-48b3721953f2')\"\n",
              "              title=\"Convert this dataframe to an interactive table.\"\n",
              "              style=\"display:none;\">\n",
              "        \n",
              "  <svg xmlns=\"http://www.w3.org/2000/svg\" height=\"24px\"viewBox=\"0 0 24 24\"\n",
              "       width=\"24px\">\n",
              "    <path d=\"M0 0h24v24H0V0z\" fill=\"none\"/>\n",
              "    <path d=\"M18.56 5.44l.94 2.06.94-2.06 2.06-.94-2.06-.94-.94-2.06-.94 2.06-2.06.94zm-11 1L8.5 8.5l.94-2.06 2.06-.94-2.06-.94L8.5 2.5l-.94 2.06-2.06.94zm10 10l.94 2.06.94-2.06 2.06-.94-2.06-.94-.94-2.06-.94 2.06-2.06.94z\"/><path d=\"M17.41 7.96l-1.37-1.37c-.4-.4-.92-.59-1.43-.59-.52 0-1.04.2-1.43.59L10.3 9.45l-7.72 7.72c-.78.78-.78 2.05 0 2.83L4 21.41c.39.39.9.59 1.41.59.51 0 1.02-.2 1.41-.59l7.78-7.78 2.81-2.81c.8-.78.8-2.07 0-2.86zM5.41 20L4 18.59l7.72-7.72 1.47 1.35L5.41 20z\"/>\n",
              "  </svg>\n",
              "      </button>\n",
              "      \n",
              "  <style>\n",
              "    .colab-df-container {\n",
              "      display:flex;\n",
              "      flex-wrap:wrap;\n",
              "      gap: 12px;\n",
              "    }\n",
              "\n",
              "    .colab-df-convert {\n",
              "      background-color: #E8F0FE;\n",
              "      border: none;\n",
              "      border-radius: 50%;\n",
              "      cursor: pointer;\n",
              "      display: none;\n",
              "      fill: #1967D2;\n",
              "      height: 32px;\n",
              "      padding: 0 0 0 0;\n",
              "      width: 32px;\n",
              "    }\n",
              "\n",
              "    .colab-df-convert:hover {\n",
              "      background-color: #E2EBFA;\n",
              "      box-shadow: 0px 1px 2px rgba(60, 64, 67, 0.3), 0px 1px 3px 1px rgba(60, 64, 67, 0.15);\n",
              "      fill: #174EA6;\n",
              "    }\n",
              "\n",
              "    [theme=dark] .colab-df-convert {\n",
              "      background-color: #3B4455;\n",
              "      fill: #D2E3FC;\n",
              "    }\n",
              "\n",
              "    [theme=dark] .colab-df-convert:hover {\n",
              "      background-color: #434B5C;\n",
              "      box-shadow: 0px 1px 3px 1px rgba(0, 0, 0, 0.15);\n",
              "      filter: drop-shadow(0px 1px 2px rgba(0, 0, 0, 0.3));\n",
              "      fill: #FFFFFF;\n",
              "    }\n",
              "  </style>\n",
              "\n",
              "      <script>\n",
              "        const buttonEl =\n",
              "          document.querySelector('#df-d3903140-eb1e-4330-82c3-48b3721953f2 button.colab-df-convert');\n",
              "        buttonEl.style.display =\n",
              "          google.colab.kernel.accessAllowed ? 'block' : 'none';\n",
              "\n",
              "        async function convertToInteractive(key) {\n",
              "          const element = document.querySelector('#df-d3903140-eb1e-4330-82c3-48b3721953f2');\n",
              "          const dataTable =\n",
              "            await google.colab.kernel.invokeFunction('convertToInteractive',\n",
              "                                                     [key], {});\n",
              "          if (!dataTable) return;\n",
              "\n",
              "          const docLinkHtml = 'Like what you see? Visit the ' +\n",
              "            '<a target=\"_blank\" href=https://colab.research.google.com/notebooks/data_table.ipynb>data table notebook</a>'\n",
              "            + ' to learn more about interactive tables.';\n",
              "          element.innerHTML = '';\n",
              "          dataTable['output_type'] = 'display_data';\n",
              "          await google.colab.output.renderOutput(dataTable, element);\n",
              "          const docLink = document.createElement('div');\n",
              "          docLink.innerHTML = docLinkHtml;\n",
              "          element.appendChild(docLink);\n",
              "        }\n",
              "      </script>\n",
              "    </div>\n",
              "  </div>\n",
              "  "
            ]
          },
          "metadata": {},
          "execution_count": 23
        }
      ]
    },
    {
      "cell_type": "code",
      "source": [
        "zip_cd.head()"
      ],
      "metadata": {
        "colab": {
          "base_uri": "https://localhost:8080/",
          "height": 206
        },
        "id": "BqcsU9rX5H_O",
        "outputId": "de06a4eb-8f03-41f1-c40a-675e4d419db7"
      },
      "execution_count": 24,
      "outputs": [
        {
          "output_type": "execute_result",
          "data": {
            "text/plain": [
              "   Warehouse Pincode  Customer Pincode Zone\n",
              "0             121003            507101    d\n",
              "1             121003            486886    d\n",
              "2             121003            532484    d\n",
              "3             121003            143001    b\n",
              "4             121003            515591    d"
            ],
            "text/html": [
              "\n",
              "  <div id=\"df-c9b38418-ce67-43bf-803d-02afce451922\">\n",
              "    <div class=\"colab-df-container\">\n",
              "      <div>\n",
              "<style scoped>\n",
              "    .dataframe tbody tr th:only-of-type {\n",
              "        vertical-align: middle;\n",
              "    }\n",
              "\n",
              "    .dataframe tbody tr th {\n",
              "        vertical-align: top;\n",
              "    }\n",
              "\n",
              "    .dataframe thead th {\n",
              "        text-align: right;\n",
              "    }\n",
              "</style>\n",
              "<table border=\"1\" class=\"dataframe\">\n",
              "  <thead>\n",
              "    <tr style=\"text-align: right;\">\n",
              "      <th></th>\n",
              "      <th>Warehouse Pincode</th>\n",
              "      <th>Customer Pincode</th>\n",
              "      <th>Zone</th>\n",
              "    </tr>\n",
              "  </thead>\n",
              "  <tbody>\n",
              "    <tr>\n",
              "      <th>0</th>\n",
              "      <td>121003</td>\n",
              "      <td>507101</td>\n",
              "      <td>d</td>\n",
              "    </tr>\n",
              "    <tr>\n",
              "      <th>1</th>\n",
              "      <td>121003</td>\n",
              "      <td>486886</td>\n",
              "      <td>d</td>\n",
              "    </tr>\n",
              "    <tr>\n",
              "      <th>2</th>\n",
              "      <td>121003</td>\n",
              "      <td>532484</td>\n",
              "      <td>d</td>\n",
              "    </tr>\n",
              "    <tr>\n",
              "      <th>3</th>\n",
              "      <td>121003</td>\n",
              "      <td>143001</td>\n",
              "      <td>b</td>\n",
              "    </tr>\n",
              "    <tr>\n",
              "      <th>4</th>\n",
              "      <td>121003</td>\n",
              "      <td>515591</td>\n",
              "      <td>d</td>\n",
              "    </tr>\n",
              "  </tbody>\n",
              "</table>\n",
              "</div>\n",
              "      <button class=\"colab-df-convert\" onclick=\"convertToInteractive('df-c9b38418-ce67-43bf-803d-02afce451922')\"\n",
              "              title=\"Convert this dataframe to an interactive table.\"\n",
              "              style=\"display:none;\">\n",
              "        \n",
              "  <svg xmlns=\"http://www.w3.org/2000/svg\" height=\"24px\"viewBox=\"0 0 24 24\"\n",
              "       width=\"24px\">\n",
              "    <path d=\"M0 0h24v24H0V0z\" fill=\"none\"/>\n",
              "    <path d=\"M18.56 5.44l.94 2.06.94-2.06 2.06-.94-2.06-.94-.94-2.06-.94 2.06-2.06.94zm-11 1L8.5 8.5l.94-2.06 2.06-.94-2.06-.94L8.5 2.5l-.94 2.06-2.06.94zm10 10l.94 2.06.94-2.06 2.06-.94-2.06-.94-.94-2.06-.94 2.06-2.06.94z\"/><path d=\"M17.41 7.96l-1.37-1.37c-.4-.4-.92-.59-1.43-.59-.52 0-1.04.2-1.43.59L10.3 9.45l-7.72 7.72c-.78.78-.78 2.05 0 2.83L4 21.41c.39.39.9.59 1.41.59.51 0 1.02-.2 1.41-.59l7.78-7.78 2.81-2.81c.8-.78.8-2.07 0-2.86zM5.41 20L4 18.59l7.72-7.72 1.47 1.35L5.41 20z\"/>\n",
              "  </svg>\n",
              "      </button>\n",
              "      \n",
              "  <style>\n",
              "    .colab-df-container {\n",
              "      display:flex;\n",
              "      flex-wrap:wrap;\n",
              "      gap: 12px;\n",
              "    }\n",
              "\n",
              "    .colab-df-convert {\n",
              "      background-color: #E8F0FE;\n",
              "      border: none;\n",
              "      border-radius: 50%;\n",
              "      cursor: pointer;\n",
              "      display: none;\n",
              "      fill: #1967D2;\n",
              "      height: 32px;\n",
              "      padding: 0 0 0 0;\n",
              "      width: 32px;\n",
              "    }\n",
              "\n",
              "    .colab-df-convert:hover {\n",
              "      background-color: #E2EBFA;\n",
              "      box-shadow: 0px 1px 2px rgba(60, 64, 67, 0.3), 0px 1px 3px 1px rgba(60, 64, 67, 0.15);\n",
              "      fill: #174EA6;\n",
              "    }\n",
              "\n",
              "    [theme=dark] .colab-df-convert {\n",
              "      background-color: #3B4455;\n",
              "      fill: #D2E3FC;\n",
              "    }\n",
              "\n",
              "    [theme=dark] .colab-df-convert:hover {\n",
              "      background-color: #434B5C;\n",
              "      box-shadow: 0px 1px 3px 1px rgba(0, 0, 0, 0.15);\n",
              "      filter: drop-shadow(0px 1px 2px rgba(0, 0, 0, 0.3));\n",
              "      fill: #FFFFFF;\n",
              "    }\n",
              "  </style>\n",
              "\n",
              "      <script>\n",
              "        const buttonEl =\n",
              "          document.querySelector('#df-c9b38418-ce67-43bf-803d-02afce451922 button.colab-df-convert');\n",
              "        buttonEl.style.display =\n",
              "          google.colab.kernel.accessAllowed ? 'block' : 'none';\n",
              "\n",
              "        async function convertToInteractive(key) {\n",
              "          const element = document.querySelector('#df-c9b38418-ce67-43bf-803d-02afce451922');\n",
              "          const dataTable =\n",
              "            await google.colab.kernel.invokeFunction('convertToInteractive',\n",
              "                                                     [key], {});\n",
              "          if (!dataTable) return;\n",
              "\n",
              "          const docLinkHtml = 'Like what you see? Visit the ' +\n",
              "            '<a target=\"_blank\" href=https://colab.research.google.com/notebooks/data_table.ipynb>data table notebook</a>'\n",
              "            + ' to learn more about interactive tables.';\n",
              "          element.innerHTML = '';\n",
              "          dataTable['output_type'] = 'display_data';\n",
              "          await google.colab.output.renderOutput(dataTable, element);\n",
              "          const docLink = document.createElement('div');\n",
              "          docLink.innerHTML = docLinkHtml;\n",
              "          element.appendChild(docLink);\n",
              "        }\n",
              "      </script>\n",
              "    </div>\n",
              "  </div>\n",
              "  "
            ]
          },
          "metadata": {},
          "execution_count": 24
        }
      ]
    },
    {
      "cell_type": "code",
      "source": [
        "sku.head()"
      ],
      "metadata": {
        "colab": {
          "base_uri": "https://localhost:8080/",
          "height": 206
        },
        "id": "5ScWySqL5Lve",
        "outputId": "9c7db8b7-766c-4858-abab-c6489aff5d2d"
      },
      "execution_count": 25,
      "outputs": [
        {
          "output_type": "execute_result",
          "data": {
            "text/plain": [
              "             SKU  Weight (g)\n",
              "0  8904223815682         210\n",
              "1  8904223815859         165\n",
              "2  8904223815866         113\n",
              "3  8904223815873          65\n",
              "4  8904223816214         120"
            ],
            "text/html": [
              "\n",
              "  <div id=\"df-7ff2bc70-0010-4bf5-b22d-e12371f39197\">\n",
              "    <div class=\"colab-df-container\">\n",
              "      <div>\n",
              "<style scoped>\n",
              "    .dataframe tbody tr th:only-of-type {\n",
              "        vertical-align: middle;\n",
              "    }\n",
              "\n",
              "    .dataframe tbody tr th {\n",
              "        vertical-align: top;\n",
              "    }\n",
              "\n",
              "    .dataframe thead th {\n",
              "        text-align: right;\n",
              "    }\n",
              "</style>\n",
              "<table border=\"1\" class=\"dataframe\">\n",
              "  <thead>\n",
              "    <tr style=\"text-align: right;\">\n",
              "      <th></th>\n",
              "      <th>SKU</th>\n",
              "      <th>Weight (g)</th>\n",
              "    </tr>\n",
              "  </thead>\n",
              "  <tbody>\n",
              "    <tr>\n",
              "      <th>0</th>\n",
              "      <td>8904223815682</td>\n",
              "      <td>210</td>\n",
              "    </tr>\n",
              "    <tr>\n",
              "      <th>1</th>\n",
              "      <td>8904223815859</td>\n",
              "      <td>165</td>\n",
              "    </tr>\n",
              "    <tr>\n",
              "      <th>2</th>\n",
              "      <td>8904223815866</td>\n",
              "      <td>113</td>\n",
              "    </tr>\n",
              "    <tr>\n",
              "      <th>3</th>\n",
              "      <td>8904223815873</td>\n",
              "      <td>65</td>\n",
              "    </tr>\n",
              "    <tr>\n",
              "      <th>4</th>\n",
              "      <td>8904223816214</td>\n",
              "      <td>120</td>\n",
              "    </tr>\n",
              "  </tbody>\n",
              "</table>\n",
              "</div>\n",
              "      <button class=\"colab-df-convert\" onclick=\"convertToInteractive('df-7ff2bc70-0010-4bf5-b22d-e12371f39197')\"\n",
              "              title=\"Convert this dataframe to an interactive table.\"\n",
              "              style=\"display:none;\">\n",
              "        \n",
              "  <svg xmlns=\"http://www.w3.org/2000/svg\" height=\"24px\"viewBox=\"0 0 24 24\"\n",
              "       width=\"24px\">\n",
              "    <path d=\"M0 0h24v24H0V0z\" fill=\"none\"/>\n",
              "    <path d=\"M18.56 5.44l.94 2.06.94-2.06 2.06-.94-2.06-.94-.94-2.06-.94 2.06-2.06.94zm-11 1L8.5 8.5l.94-2.06 2.06-.94-2.06-.94L8.5 2.5l-.94 2.06-2.06.94zm10 10l.94 2.06.94-2.06 2.06-.94-2.06-.94-.94-2.06-.94 2.06-2.06.94z\"/><path d=\"M17.41 7.96l-1.37-1.37c-.4-.4-.92-.59-1.43-.59-.52 0-1.04.2-1.43.59L10.3 9.45l-7.72 7.72c-.78.78-.78 2.05 0 2.83L4 21.41c.39.39.9.59 1.41.59.51 0 1.02-.2 1.41-.59l7.78-7.78 2.81-2.81c.8-.78.8-2.07 0-2.86zM5.41 20L4 18.59l7.72-7.72 1.47 1.35L5.41 20z\"/>\n",
              "  </svg>\n",
              "      </button>\n",
              "      \n",
              "  <style>\n",
              "    .colab-df-container {\n",
              "      display:flex;\n",
              "      flex-wrap:wrap;\n",
              "      gap: 12px;\n",
              "    }\n",
              "\n",
              "    .colab-df-convert {\n",
              "      background-color: #E8F0FE;\n",
              "      border: none;\n",
              "      border-radius: 50%;\n",
              "      cursor: pointer;\n",
              "      display: none;\n",
              "      fill: #1967D2;\n",
              "      height: 32px;\n",
              "      padding: 0 0 0 0;\n",
              "      width: 32px;\n",
              "    }\n",
              "\n",
              "    .colab-df-convert:hover {\n",
              "      background-color: #E2EBFA;\n",
              "      box-shadow: 0px 1px 2px rgba(60, 64, 67, 0.3), 0px 1px 3px 1px rgba(60, 64, 67, 0.15);\n",
              "      fill: #174EA6;\n",
              "    }\n",
              "\n",
              "    [theme=dark] .colab-df-convert {\n",
              "      background-color: #3B4455;\n",
              "      fill: #D2E3FC;\n",
              "    }\n",
              "\n",
              "    [theme=dark] .colab-df-convert:hover {\n",
              "      background-color: #434B5C;\n",
              "      box-shadow: 0px 1px 3px 1px rgba(0, 0, 0, 0.15);\n",
              "      filter: drop-shadow(0px 1px 2px rgba(0, 0, 0, 0.3));\n",
              "      fill: #FFFFFF;\n",
              "    }\n",
              "  </style>\n",
              "\n",
              "      <script>\n",
              "        const buttonEl =\n",
              "          document.querySelector('#df-7ff2bc70-0010-4bf5-b22d-e12371f39197 button.colab-df-convert');\n",
              "        buttonEl.style.display =\n",
              "          google.colab.kernel.accessAllowed ? 'block' : 'none';\n",
              "\n",
              "        async function convertToInteractive(key) {\n",
              "          const element = document.querySelector('#df-7ff2bc70-0010-4bf5-b22d-e12371f39197');\n",
              "          const dataTable =\n",
              "            await google.colab.kernel.invokeFunction('convertToInteractive',\n",
              "                                                     [key], {});\n",
              "          if (!dataTable) return;\n",
              "\n",
              "          const docLinkHtml = 'Like what you see? Visit the ' +\n",
              "            '<a target=\"_blank\" href=https://colab.research.google.com/notebooks/data_table.ipynb>data table notebook</a>'\n",
              "            + ' to learn more about interactive tables.';\n",
              "          element.innerHTML = '';\n",
              "          dataTable['output_type'] = 'display_data';\n",
              "          await google.colab.output.renderOutput(dataTable, element);\n",
              "          const docLink = document.createElement('div');\n",
              "          docLink.innerHTML = docLinkHtml;\n",
              "          element.appendChild(docLink);\n",
              "        }\n",
              "      </script>\n",
              "    </div>\n",
              "  </div>\n",
              "  "
            ]
          },
          "metadata": {},
          "execution_count": 25
        }
      ]
    },
    {
      "cell_type": "code",
      "source": [
        "rates.head()\n"
      ],
      "metadata": {
        "colab": {
          "base_uri": "https://localhost:8080/",
          "height": 145
        },
        "id": "AK1n02qV5Pgt",
        "outputId": "dc733617-867d-4b88-f275-d1711aa3f0a3"
      },
      "execution_count": 26,
      "outputs": [
        {
          "output_type": "execute_result",
          "data": {
            "text/plain": [
              "   fwd_a_fixed  fwd_a_additional  fwd_b_fixed  fwd_b_additional  fwd_c_fixed  \\\n",
              "0         29.5              23.6           33              28.3         40.1   \n",
              "\n",
              "   fwd_c_additional  fwd_d_fixed  fwd_d_additional  fwd_e_fixed  \\\n",
              "0              38.9         45.4              44.8         56.6   \n",
              "\n",
              "   fwd_e_additional  rto_a_fixed  rto_a_additional  rto_b_fixed  \\\n",
              "0              55.5         13.6              23.6         20.5   \n",
              "\n",
              "   rto_b_additional  rto_c_fixed  rto_c_additional  rto_d_fixed  \\\n",
              "0              28.3         31.9              38.9         41.3   \n",
              "\n",
              "   rto_d_additional  rto_e_fixed  rto_e_additional  \n",
              "0              44.8         50.7              55.5  "
            ],
            "text/html": [
              "\n",
              "  <div id=\"df-45ea3d48-14b2-47be-86c1-d8ce10f1eea8\">\n",
              "    <div class=\"colab-df-container\">\n",
              "      <div>\n",
              "<style scoped>\n",
              "    .dataframe tbody tr th:only-of-type {\n",
              "        vertical-align: middle;\n",
              "    }\n",
              "\n",
              "    .dataframe tbody tr th {\n",
              "        vertical-align: top;\n",
              "    }\n",
              "\n",
              "    .dataframe thead th {\n",
              "        text-align: right;\n",
              "    }\n",
              "</style>\n",
              "<table border=\"1\" class=\"dataframe\">\n",
              "  <thead>\n",
              "    <tr style=\"text-align: right;\">\n",
              "      <th></th>\n",
              "      <th>fwd_a_fixed</th>\n",
              "      <th>fwd_a_additional</th>\n",
              "      <th>fwd_b_fixed</th>\n",
              "      <th>fwd_b_additional</th>\n",
              "      <th>fwd_c_fixed</th>\n",
              "      <th>fwd_c_additional</th>\n",
              "      <th>fwd_d_fixed</th>\n",
              "      <th>fwd_d_additional</th>\n",
              "      <th>fwd_e_fixed</th>\n",
              "      <th>fwd_e_additional</th>\n",
              "      <th>rto_a_fixed</th>\n",
              "      <th>rto_a_additional</th>\n",
              "      <th>rto_b_fixed</th>\n",
              "      <th>rto_b_additional</th>\n",
              "      <th>rto_c_fixed</th>\n",
              "      <th>rto_c_additional</th>\n",
              "      <th>rto_d_fixed</th>\n",
              "      <th>rto_d_additional</th>\n",
              "      <th>rto_e_fixed</th>\n",
              "      <th>rto_e_additional</th>\n",
              "    </tr>\n",
              "  </thead>\n",
              "  <tbody>\n",
              "    <tr>\n",
              "      <th>0</th>\n",
              "      <td>29.5</td>\n",
              "      <td>23.6</td>\n",
              "      <td>33</td>\n",
              "      <td>28.3</td>\n",
              "      <td>40.1</td>\n",
              "      <td>38.9</td>\n",
              "      <td>45.4</td>\n",
              "      <td>44.8</td>\n",
              "      <td>56.6</td>\n",
              "      <td>55.5</td>\n",
              "      <td>13.6</td>\n",
              "      <td>23.6</td>\n",
              "      <td>20.5</td>\n",
              "      <td>28.3</td>\n",
              "      <td>31.9</td>\n",
              "      <td>38.9</td>\n",
              "      <td>41.3</td>\n",
              "      <td>44.8</td>\n",
              "      <td>50.7</td>\n",
              "      <td>55.5</td>\n",
              "    </tr>\n",
              "  </tbody>\n",
              "</table>\n",
              "</div>\n",
              "      <button class=\"colab-df-convert\" onclick=\"convertToInteractive('df-45ea3d48-14b2-47be-86c1-d8ce10f1eea8')\"\n",
              "              title=\"Convert this dataframe to an interactive table.\"\n",
              "              style=\"display:none;\">\n",
              "        \n",
              "  <svg xmlns=\"http://www.w3.org/2000/svg\" height=\"24px\"viewBox=\"0 0 24 24\"\n",
              "       width=\"24px\">\n",
              "    <path d=\"M0 0h24v24H0V0z\" fill=\"none\"/>\n",
              "    <path d=\"M18.56 5.44l.94 2.06.94-2.06 2.06-.94-2.06-.94-.94-2.06-.94 2.06-2.06.94zm-11 1L8.5 8.5l.94-2.06 2.06-.94-2.06-.94L8.5 2.5l-.94 2.06-2.06.94zm10 10l.94 2.06.94-2.06 2.06-.94-2.06-.94-.94-2.06-.94 2.06-2.06.94z\"/><path d=\"M17.41 7.96l-1.37-1.37c-.4-.4-.92-.59-1.43-.59-.52 0-1.04.2-1.43.59L10.3 9.45l-7.72 7.72c-.78.78-.78 2.05 0 2.83L4 21.41c.39.39.9.59 1.41.59.51 0 1.02-.2 1.41-.59l7.78-7.78 2.81-2.81c.8-.78.8-2.07 0-2.86zM5.41 20L4 18.59l7.72-7.72 1.47 1.35L5.41 20z\"/>\n",
              "  </svg>\n",
              "      </button>\n",
              "      \n",
              "  <style>\n",
              "    .colab-df-container {\n",
              "      display:flex;\n",
              "      flex-wrap:wrap;\n",
              "      gap: 12px;\n",
              "    }\n",
              "\n",
              "    .colab-df-convert {\n",
              "      background-color: #E8F0FE;\n",
              "      border: none;\n",
              "      border-radius: 50%;\n",
              "      cursor: pointer;\n",
              "      display: none;\n",
              "      fill: #1967D2;\n",
              "      height: 32px;\n",
              "      padding: 0 0 0 0;\n",
              "      width: 32px;\n",
              "    }\n",
              "\n",
              "    .colab-df-convert:hover {\n",
              "      background-color: #E2EBFA;\n",
              "      box-shadow: 0px 1px 2px rgba(60, 64, 67, 0.3), 0px 1px 3px 1px rgba(60, 64, 67, 0.15);\n",
              "      fill: #174EA6;\n",
              "    }\n",
              "\n",
              "    [theme=dark] .colab-df-convert {\n",
              "      background-color: #3B4455;\n",
              "      fill: #D2E3FC;\n",
              "    }\n",
              "\n",
              "    [theme=dark] .colab-df-convert:hover {\n",
              "      background-color: #434B5C;\n",
              "      box-shadow: 0px 1px 3px 1px rgba(0, 0, 0, 0.15);\n",
              "      filter: drop-shadow(0px 1px 2px rgba(0, 0, 0, 0.3));\n",
              "      fill: #FFFFFF;\n",
              "    }\n",
              "  </style>\n",
              "\n",
              "      <script>\n",
              "        const buttonEl =\n",
              "          document.querySelector('#df-45ea3d48-14b2-47be-86c1-d8ce10f1eea8 button.colab-df-convert');\n",
              "        buttonEl.style.display =\n",
              "          google.colab.kernel.accessAllowed ? 'block' : 'none';\n",
              "\n",
              "        async function convertToInteractive(key) {\n",
              "          const element = document.querySelector('#df-45ea3d48-14b2-47be-86c1-d8ce10f1eea8');\n",
              "          const dataTable =\n",
              "            await google.colab.kernel.invokeFunction('convertToInteractive',\n",
              "                                                     [key], {});\n",
              "          if (!dataTable) return;\n",
              "\n",
              "          const docLinkHtml = 'Like what you see? Visit the ' +\n",
              "            '<a target=\"_blank\" href=https://colab.research.google.com/notebooks/data_table.ipynb>data table notebook</a>'\n",
              "            + ' to learn more about interactive tables.';\n",
              "          element.innerHTML = '';\n",
              "          dataTable['output_type'] = 'display_data';\n",
              "          await google.colab.output.renderOutput(dataTable, element);\n",
              "          const docLink = document.createElement('div');\n",
              "          docLink.innerHTML = docLinkHtml;\n",
              "          element.appendChild(docLink);\n",
              "        }\n",
              "      </script>\n",
              "    </div>\n",
              "  </div>\n",
              "  "
            ]
          },
          "metadata": {},
          "execution_count": 26
        }
      ]
    },
    {
      "cell_type": "markdown",
      "source": [
        "1) Inner joining sku and order data for getting weight of each order"
      ],
      "metadata": {
        "id": "MuKq5lCO5Sp3"
      }
    },
    {
      "cell_type": "code",
      "source": [
        "order_details = pd.merge(od, sku , on='SKU', how='inner')"
      ],
      "metadata": {
        "id": "_KDpQNAp5TgR"
      },
      "execution_count": 27,
      "outputs": []
    },
    {
      "cell_type": "code",
      "source": [
        "order_details.shape\n"
      ],
      "metadata": {
        "colab": {
          "base_uri": "https://localhost:8080/"
        },
        "id": "_1uflw4Z5bgT",
        "outputId": "f71a71a1-d4fa-4b51-cc74-2abb26f81e42"
      },
      "execution_count": 28,
      "outputs": [
        {
          "output_type": "execute_result",
          "data": {
            "text/plain": [
              "(401, 4)"
            ]
          },
          "metadata": {},
          "execution_count": 28
        }
      ]
    },
    {
      "cell_type": "code",
      "source": [
        "zip_cd['Warehouse Pincode'].value_counts()\n"
      ],
      "metadata": {
        "colab": {
          "base_uri": "https://localhost:8080/"
        },
        "id": "oBNi6V6m5bd-",
        "outputId": "d92dce8f-0507-4c4d-c68c-5d85eed6fbc4"
      },
      "execution_count": 29,
      "outputs": [
        {
          "output_type": "execute_result",
          "data": {
            "text/plain": [
              "121003    124\n",
              "Name: Warehouse Pincode, dtype: int64"
            ]
          },
          "metadata": {},
          "execution_count": 29
        }
      ]
    },
    {
      "cell_type": "code",
      "source": [
        "zip_cd.drop(['Warehouse Pincode'] , axis=1,inplace=True) # warehouse pincode is same for each zip_cd so we drop that column \n"
      ],
      "metadata": {
        "id": "MwJfvzR15bb1"
      },
      "execution_count": 30,
      "outputs": []
    },
    {
      "cell_type": "code",
      "source": [
        "zip_cd.shape"
      ],
      "metadata": {
        "colab": {
          "base_uri": "https://localhost:8080/"
        },
        "id": "GWl2LMQe5bZa",
        "outputId": "4ef11e8a-11c5-46f1-cafc-872c1791c955"
      },
      "execution_count": 31,
      "outputs": [
        {
          "output_type": "execute_result",
          "data": {
            "text/plain": [
              "(124, 2)"
            ]
          },
          "metadata": {},
          "execution_count": 31
        }
      ]
    },
    {
      "cell_type": "markdown",
      "source": [
        "2) Multiplying order qty and weight for getting Total weight in gram"
      ],
      "metadata": {
        "id": "f9LwTLIh5m5-"
      }
    },
    {
      "cell_type": "code",
      "source": [
        "order_details['Total_Weight_kg']=(order_details['Order Qty']*order_details['Weight (g)'])/1000\n",
        "order_details.head()"
      ],
      "metadata": {
        "colab": {
          "base_uri": "https://localhost:8080/",
          "height": 206
        },
        "id": "sio-nnUY5bWS",
        "outputId": "b7f39e36-4c3a-4404-85b2-e743e01761a8"
      },
      "execution_count": 32,
      "outputs": [
        {
          "output_type": "execute_result",
          "data": {
            "text/plain": [
              "   ExternOrderNo            SKU  Order Qty  Weight (g)  Total_Weight_kg\n",
              "0     2001827036  8904223818706        1.0         127            0.127\n",
              "1     2001821995  8904223818706        1.0         127            0.127\n",
              "2     2001819252  8904223818706        1.0         127            0.127\n",
              "3     2001816996  8904223818706        1.0         127            0.127\n",
              "4     2001814580  8904223818706        1.0         127            0.127"
            ],
            "text/html": [
              "\n",
              "  <div id=\"df-fd4f86e5-9a0a-416f-b024-c4937661d401\">\n",
              "    <div class=\"colab-df-container\">\n",
              "      <div>\n",
              "<style scoped>\n",
              "    .dataframe tbody tr th:only-of-type {\n",
              "        vertical-align: middle;\n",
              "    }\n",
              "\n",
              "    .dataframe tbody tr th {\n",
              "        vertical-align: top;\n",
              "    }\n",
              "\n",
              "    .dataframe thead th {\n",
              "        text-align: right;\n",
              "    }\n",
              "</style>\n",
              "<table border=\"1\" class=\"dataframe\">\n",
              "  <thead>\n",
              "    <tr style=\"text-align: right;\">\n",
              "      <th></th>\n",
              "      <th>ExternOrderNo</th>\n",
              "      <th>SKU</th>\n",
              "      <th>Order Qty</th>\n",
              "      <th>Weight (g)</th>\n",
              "      <th>Total_Weight_kg</th>\n",
              "    </tr>\n",
              "  </thead>\n",
              "  <tbody>\n",
              "    <tr>\n",
              "      <th>0</th>\n",
              "      <td>2001827036</td>\n",
              "      <td>8904223818706</td>\n",
              "      <td>1.0</td>\n",
              "      <td>127</td>\n",
              "      <td>0.127</td>\n",
              "    </tr>\n",
              "    <tr>\n",
              "      <th>1</th>\n",
              "      <td>2001821995</td>\n",
              "      <td>8904223818706</td>\n",
              "      <td>1.0</td>\n",
              "      <td>127</td>\n",
              "      <td>0.127</td>\n",
              "    </tr>\n",
              "    <tr>\n",
              "      <th>2</th>\n",
              "      <td>2001819252</td>\n",
              "      <td>8904223818706</td>\n",
              "      <td>1.0</td>\n",
              "      <td>127</td>\n",
              "      <td>0.127</td>\n",
              "    </tr>\n",
              "    <tr>\n",
              "      <th>3</th>\n",
              "      <td>2001816996</td>\n",
              "      <td>8904223818706</td>\n",
              "      <td>1.0</td>\n",
              "      <td>127</td>\n",
              "      <td>0.127</td>\n",
              "    </tr>\n",
              "    <tr>\n",
              "      <th>4</th>\n",
              "      <td>2001814580</td>\n",
              "      <td>8904223818706</td>\n",
              "      <td>1.0</td>\n",
              "      <td>127</td>\n",
              "      <td>0.127</td>\n",
              "    </tr>\n",
              "  </tbody>\n",
              "</table>\n",
              "</div>\n",
              "      <button class=\"colab-df-convert\" onclick=\"convertToInteractive('df-fd4f86e5-9a0a-416f-b024-c4937661d401')\"\n",
              "              title=\"Convert this dataframe to an interactive table.\"\n",
              "              style=\"display:none;\">\n",
              "        \n",
              "  <svg xmlns=\"http://www.w3.org/2000/svg\" height=\"24px\"viewBox=\"0 0 24 24\"\n",
              "       width=\"24px\">\n",
              "    <path d=\"M0 0h24v24H0V0z\" fill=\"none\"/>\n",
              "    <path d=\"M18.56 5.44l.94 2.06.94-2.06 2.06-.94-2.06-.94-.94-2.06-.94 2.06-2.06.94zm-11 1L8.5 8.5l.94-2.06 2.06-.94-2.06-.94L8.5 2.5l-.94 2.06-2.06.94zm10 10l.94 2.06.94-2.06 2.06-.94-2.06-.94-.94-2.06-.94 2.06-2.06.94z\"/><path d=\"M17.41 7.96l-1.37-1.37c-.4-.4-.92-.59-1.43-.59-.52 0-1.04.2-1.43.59L10.3 9.45l-7.72 7.72c-.78.78-.78 2.05 0 2.83L4 21.41c.39.39.9.59 1.41.59.51 0 1.02-.2 1.41-.59l7.78-7.78 2.81-2.81c.8-.78.8-2.07 0-2.86zM5.41 20L4 18.59l7.72-7.72 1.47 1.35L5.41 20z\"/>\n",
              "  </svg>\n",
              "      </button>\n",
              "      \n",
              "  <style>\n",
              "    .colab-df-container {\n",
              "      display:flex;\n",
              "      flex-wrap:wrap;\n",
              "      gap: 12px;\n",
              "    }\n",
              "\n",
              "    .colab-df-convert {\n",
              "      background-color: #E8F0FE;\n",
              "      border: none;\n",
              "      border-radius: 50%;\n",
              "      cursor: pointer;\n",
              "      display: none;\n",
              "      fill: #1967D2;\n",
              "      height: 32px;\n",
              "      padding: 0 0 0 0;\n",
              "      width: 32px;\n",
              "    }\n",
              "\n",
              "    .colab-df-convert:hover {\n",
              "      background-color: #E2EBFA;\n",
              "      box-shadow: 0px 1px 2px rgba(60, 64, 67, 0.3), 0px 1px 3px 1px rgba(60, 64, 67, 0.15);\n",
              "      fill: #174EA6;\n",
              "    }\n",
              "\n",
              "    [theme=dark] .colab-df-convert {\n",
              "      background-color: #3B4455;\n",
              "      fill: #D2E3FC;\n",
              "    }\n",
              "\n",
              "    [theme=dark] .colab-df-convert:hover {\n",
              "      background-color: #434B5C;\n",
              "      box-shadow: 0px 1px 3px 1px rgba(0, 0, 0, 0.15);\n",
              "      filter: drop-shadow(0px 1px 2px rgba(0, 0, 0, 0.3));\n",
              "      fill: #FFFFFF;\n",
              "    }\n",
              "  </style>\n",
              "\n",
              "      <script>\n",
              "        const buttonEl =\n",
              "          document.querySelector('#df-fd4f86e5-9a0a-416f-b024-c4937661d401 button.colab-df-convert');\n",
              "        buttonEl.style.display =\n",
              "          google.colab.kernel.accessAllowed ? 'block' : 'none';\n",
              "\n",
              "        async function convertToInteractive(key) {\n",
              "          const element = document.querySelector('#df-fd4f86e5-9a0a-416f-b024-c4937661d401');\n",
              "          const dataTable =\n",
              "            await google.colab.kernel.invokeFunction('convertToInteractive',\n",
              "                                                     [key], {});\n",
              "          if (!dataTable) return;\n",
              "\n",
              "          const docLinkHtml = 'Like what you see? Visit the ' +\n",
              "            '<a target=\"_blank\" href=https://colab.research.google.com/notebooks/data_table.ipynb>data table notebook</a>'\n",
              "            + ' to learn more about interactive tables.';\n",
              "          element.innerHTML = '';\n",
              "          dataTable['output_type'] = 'display_data';\n",
              "          await google.colab.output.renderOutput(dataTable, element);\n",
              "          const docLink = document.createElement('div');\n",
              "          docLink.innerHTML = docLinkHtml;\n",
              "          element.appendChild(docLink);\n",
              "        }\n",
              "      </script>\n",
              "    </div>\n",
              "  </div>\n",
              "  "
            ]
          },
          "metadata": {},
          "execution_count": 32
        }
      ]
    },
    {
      "cell_type": "code",
      "source": [
        "# grouping based on orders\n",
        "order_details = order_details.groupby(['ExternOrderNo']).agg(sum) # grouping order details"
      ],
      "metadata": {
        "id": "9ESUn6CB5bTi"
      },
      "execution_count": 33,
      "outputs": []
    },
    {
      "cell_type": "code",
      "source": [
        "order_details.shape"
      ],
      "metadata": {
        "colab": {
          "base_uri": "https://localhost:8080/"
        },
        "id": "NcU1jHtJ5bRf",
        "outputId": "ca4380d0-1be5-4060-bf15-1a5d3696627c"
      },
      "execution_count": 35,
      "outputs": [
        {
          "output_type": "execute_result",
          "data": {
            "text/plain": [
              "(124, 3)"
            ]
          },
          "metadata": {},
          "execution_count": 35
        }
      ]
    },
    {
      "cell_type": "code",
      "source": [
        "# maximum wt in our order\n",
        "order_details['Total_Weight_kg'].max()"
      ],
      "metadata": {
        "colab": {
          "base_uri": "https://localhost:8080/"
        },
        "id": "Pojo6q_g5bNJ",
        "outputId": "088ce53f-b1a3-4e72-afb9-05b4fc2bf3e4"
      },
      "execution_count": 38,
      "outputs": [
        {
          "output_type": "execute_result",
          "data": {
            "text/plain": [
              "3.08"
            ]
          },
          "metadata": {},
          "execution_count": 38
        }
      ]
    },
    {
      "cell_type": "code",
      "source": [
        "# wt slab function - this function assign wt slab to weight in kg \n",
        "def wt_slab(x):\n",
        "    if(x<=.5):\n",
        "        return .5\n",
        "    elif(x<=1 and x>.5):\n",
        "        return 1\n",
        "    elif(x<=1.5 and x>1):\n",
        "        return 1.5\n",
        "    elif(x<=2 and x>1.5):\n",
        "        return 2\n",
        "    elif(x<=2.5 and x>2):\n",
        "        return 2.5\n",
        "    elif(x<=3 and x>2.5):\n",
        "        return 3\n",
        "    elif(x<3.5 and x>3):\n",
        "        return 3.5"
      ],
      "metadata": {
        "id": "AF5EZUK35bKa"
      },
      "execution_count": 39,
      "outputs": []
    },
    {
      "cell_type": "code",
      "source": [
        "order_details.reset_index(inplace=True)"
      ],
      "metadata": {
        "id": "_hEDaoVK5bHN"
      },
      "execution_count": 40,
      "outputs": []
    },
    {
      "cell_type": "code",
      "source": [
        "order_details=pd.DataFrame(order_details[['ExternOrderNo','Total_Weight_kg']])"
      ],
      "metadata": {
        "id": "CG1fnn2G62nE"
      },
      "execution_count": 41,
      "outputs": []
    },
    {
      "cell_type": "code",
      "source": [
        "order_details.shape"
      ],
      "metadata": {
        "colab": {
          "base_uri": "https://localhost:8080/"
        },
        "id": "n6jKD0CG694u",
        "outputId": "8d89fc04-16c1-4dd9-a46b-349290b575a7"
      },
      "execution_count": 43,
      "outputs": [
        {
          "output_type": "execute_result",
          "data": {
            "text/plain": [
              "(124, 2)"
            ]
          },
          "metadata": {},
          "execution_count": 43
        }
      ]
    },
    {
      "cell_type": "code",
      "source": [
        "order_details['wt_slab_as_per_x']=order_details['Total_Weight_kg'].apply(wt_slab)\n"
      ],
      "metadata": {
        "id": "tamTXal87CQt"
      },
      "execution_count": 45,
      "outputs": []
    },
    {
      "cell_type": "code",
      "source": [
        "order_details=pd.concat([order_details,zip_cd],axis=1)\n",
        "order_details"
      ],
      "metadata": {
        "colab": {
          "base_uri": "https://localhost:8080/",
          "height": 423
        },
        "id": "hBn-At__7J6t",
        "outputId": "878bc7d5-44b6-41db-ae3b-a22cf8d57c33"
      },
      "execution_count": 46,
      "outputs": [
        {
          "output_type": "execute_result",
          "data": {
            "text/plain": [
              "     ExternOrderNo  Total_Weight_kg  wt_slab_as_per_x  Customer Pincode Zone\n",
              "0       2001806210            0.220               0.5            507101    d\n",
              "1       2001806226            0.480               0.5            486886    d\n",
              "2       2001806229            0.500               0.5            532484    d\n",
              "3       2001806232            1.302               1.5            143001    b\n",
              "4       2001806233            0.245               0.5            515591    d\n",
              "..             ...              ...               ...               ...  ...\n",
              "119     2001821995            0.477               0.5            325207    b\n",
              "120     2001822466            1.376               1.5            303702    b\n",
              "121     2001823564            0.672               1.0            313301    b\n",
              "122     2001825261            1.557               2.0            173212    e\n",
              "123     2001827036            2.176               2.5            302020    b\n",
              "\n",
              "[124 rows x 5 columns]"
            ],
            "text/html": [
              "\n",
              "  <div id=\"df-421b515f-328d-491a-b5cd-8cf50cb261c3\">\n",
              "    <div class=\"colab-df-container\">\n",
              "      <div>\n",
              "<style scoped>\n",
              "    .dataframe tbody tr th:only-of-type {\n",
              "        vertical-align: middle;\n",
              "    }\n",
              "\n",
              "    .dataframe tbody tr th {\n",
              "        vertical-align: top;\n",
              "    }\n",
              "\n",
              "    .dataframe thead th {\n",
              "        text-align: right;\n",
              "    }\n",
              "</style>\n",
              "<table border=\"1\" class=\"dataframe\">\n",
              "  <thead>\n",
              "    <tr style=\"text-align: right;\">\n",
              "      <th></th>\n",
              "      <th>ExternOrderNo</th>\n",
              "      <th>Total_Weight_kg</th>\n",
              "      <th>wt_slab_as_per_x</th>\n",
              "      <th>Customer Pincode</th>\n",
              "      <th>Zone</th>\n",
              "    </tr>\n",
              "  </thead>\n",
              "  <tbody>\n",
              "    <tr>\n",
              "      <th>0</th>\n",
              "      <td>2001806210</td>\n",
              "      <td>0.220</td>\n",
              "      <td>0.5</td>\n",
              "      <td>507101</td>\n",
              "      <td>d</td>\n",
              "    </tr>\n",
              "    <tr>\n",
              "      <th>1</th>\n",
              "      <td>2001806226</td>\n",
              "      <td>0.480</td>\n",
              "      <td>0.5</td>\n",
              "      <td>486886</td>\n",
              "      <td>d</td>\n",
              "    </tr>\n",
              "    <tr>\n",
              "      <th>2</th>\n",
              "      <td>2001806229</td>\n",
              "      <td>0.500</td>\n",
              "      <td>0.5</td>\n",
              "      <td>532484</td>\n",
              "      <td>d</td>\n",
              "    </tr>\n",
              "    <tr>\n",
              "      <th>3</th>\n",
              "      <td>2001806232</td>\n",
              "      <td>1.302</td>\n",
              "      <td>1.5</td>\n",
              "      <td>143001</td>\n",
              "      <td>b</td>\n",
              "    </tr>\n",
              "    <tr>\n",
              "      <th>4</th>\n",
              "      <td>2001806233</td>\n",
              "      <td>0.245</td>\n",
              "      <td>0.5</td>\n",
              "      <td>515591</td>\n",
              "      <td>d</td>\n",
              "    </tr>\n",
              "    <tr>\n",
              "      <th>...</th>\n",
              "      <td>...</td>\n",
              "      <td>...</td>\n",
              "      <td>...</td>\n",
              "      <td>...</td>\n",
              "      <td>...</td>\n",
              "    </tr>\n",
              "    <tr>\n",
              "      <th>119</th>\n",
              "      <td>2001821995</td>\n",
              "      <td>0.477</td>\n",
              "      <td>0.5</td>\n",
              "      <td>325207</td>\n",
              "      <td>b</td>\n",
              "    </tr>\n",
              "    <tr>\n",
              "      <th>120</th>\n",
              "      <td>2001822466</td>\n",
              "      <td>1.376</td>\n",
              "      <td>1.5</td>\n",
              "      <td>303702</td>\n",
              "      <td>b</td>\n",
              "    </tr>\n",
              "    <tr>\n",
              "      <th>121</th>\n",
              "      <td>2001823564</td>\n",
              "      <td>0.672</td>\n",
              "      <td>1.0</td>\n",
              "      <td>313301</td>\n",
              "      <td>b</td>\n",
              "    </tr>\n",
              "    <tr>\n",
              "      <th>122</th>\n",
              "      <td>2001825261</td>\n",
              "      <td>1.557</td>\n",
              "      <td>2.0</td>\n",
              "      <td>173212</td>\n",
              "      <td>e</td>\n",
              "    </tr>\n",
              "    <tr>\n",
              "      <th>123</th>\n",
              "      <td>2001827036</td>\n",
              "      <td>2.176</td>\n",
              "      <td>2.5</td>\n",
              "      <td>302020</td>\n",
              "      <td>b</td>\n",
              "    </tr>\n",
              "  </tbody>\n",
              "</table>\n",
              "<p>124 rows × 5 columns</p>\n",
              "</div>\n",
              "      <button class=\"colab-df-convert\" onclick=\"convertToInteractive('df-421b515f-328d-491a-b5cd-8cf50cb261c3')\"\n",
              "              title=\"Convert this dataframe to an interactive table.\"\n",
              "              style=\"display:none;\">\n",
              "        \n",
              "  <svg xmlns=\"http://www.w3.org/2000/svg\" height=\"24px\"viewBox=\"0 0 24 24\"\n",
              "       width=\"24px\">\n",
              "    <path d=\"M0 0h24v24H0V0z\" fill=\"none\"/>\n",
              "    <path d=\"M18.56 5.44l.94 2.06.94-2.06 2.06-.94-2.06-.94-.94-2.06-.94 2.06-2.06.94zm-11 1L8.5 8.5l.94-2.06 2.06-.94-2.06-.94L8.5 2.5l-.94 2.06-2.06.94zm10 10l.94 2.06.94-2.06 2.06-.94-2.06-.94-.94-2.06-.94 2.06-2.06.94z\"/><path d=\"M17.41 7.96l-1.37-1.37c-.4-.4-.92-.59-1.43-.59-.52 0-1.04.2-1.43.59L10.3 9.45l-7.72 7.72c-.78.78-.78 2.05 0 2.83L4 21.41c.39.39.9.59 1.41.59.51 0 1.02-.2 1.41-.59l7.78-7.78 2.81-2.81c.8-.78.8-2.07 0-2.86zM5.41 20L4 18.59l7.72-7.72 1.47 1.35L5.41 20z\"/>\n",
              "  </svg>\n",
              "      </button>\n",
              "      \n",
              "  <style>\n",
              "    .colab-df-container {\n",
              "      display:flex;\n",
              "      flex-wrap:wrap;\n",
              "      gap: 12px;\n",
              "    }\n",
              "\n",
              "    .colab-df-convert {\n",
              "      background-color: #E8F0FE;\n",
              "      border: none;\n",
              "      border-radius: 50%;\n",
              "      cursor: pointer;\n",
              "      display: none;\n",
              "      fill: #1967D2;\n",
              "      height: 32px;\n",
              "      padding: 0 0 0 0;\n",
              "      width: 32px;\n",
              "    }\n",
              "\n",
              "    .colab-df-convert:hover {\n",
              "      background-color: #E2EBFA;\n",
              "      box-shadow: 0px 1px 2px rgba(60, 64, 67, 0.3), 0px 1px 3px 1px rgba(60, 64, 67, 0.15);\n",
              "      fill: #174EA6;\n",
              "    }\n",
              "\n",
              "    [theme=dark] .colab-df-convert {\n",
              "      background-color: #3B4455;\n",
              "      fill: #D2E3FC;\n",
              "    }\n",
              "\n",
              "    [theme=dark] .colab-df-convert:hover {\n",
              "      background-color: #434B5C;\n",
              "      box-shadow: 0px 1px 3px 1px rgba(0, 0, 0, 0.15);\n",
              "      filter: drop-shadow(0px 1px 2px rgba(0, 0, 0, 0.3));\n",
              "      fill: #FFFFFF;\n",
              "    }\n",
              "  </style>\n",
              "\n",
              "      <script>\n",
              "        const buttonEl =\n",
              "          document.querySelector('#df-421b515f-328d-491a-b5cd-8cf50cb261c3 button.colab-df-convert');\n",
              "        buttonEl.style.display =\n",
              "          google.colab.kernel.accessAllowed ? 'block' : 'none';\n",
              "\n",
              "        async function convertToInteractive(key) {\n",
              "          const element = document.querySelector('#df-421b515f-328d-491a-b5cd-8cf50cb261c3');\n",
              "          const dataTable =\n",
              "            await google.colab.kernel.invokeFunction('convertToInteractive',\n",
              "                                                     [key], {});\n",
              "          if (!dataTable) return;\n",
              "\n",
              "          const docLinkHtml = 'Like what you see? Visit the ' +\n",
              "            '<a target=\"_blank\" href=https://colab.research.google.com/notebooks/data_table.ipynb>data table notebook</a>'\n",
              "            + ' to learn more about interactive tables.';\n",
              "          element.innerHTML = '';\n",
              "          dataTable['output_type'] = 'display_data';\n",
              "          await google.colab.output.renderOutput(dataTable, element);\n",
              "          const docLink = document.createElement('div');\n",
              "          docLink.innerHTML = docLinkHtml;\n",
              "          element.appendChild(docLink);\n",
              "        }\n",
              "      </script>\n",
              "    </div>\n",
              "  </div>\n",
              "  "
            ]
          },
          "metadata": {},
          "execution_count": 46
        }
      ]
    },
    {
      "cell_type": "code",
      "source": [
        "# renaming column names for convienience in final analysis \n",
        "order_details.columns=['Order ID', 'Total_Weight_kg_x', 'wt_slab_as_per_x',\n",
        "       'Customer Pincode_x', 'Zone_x']\n",
        " \n",
        "# applying weight slab to weight assigned by courier company side\n",
        "invoice['wt_slab_courier_company']=invoice['Charged Weight'].apply(wt_slab)"
      ],
      "metadata": {
        "id": "7sg8cFyO7YV1"
      },
      "execution_count": 47,
      "outputs": []
    },
    {
      "cell_type": "code",
      "source": [
        "ds= pd.merge(order_details,invoice,on='Order ID',how='inner') # joining based on order id "
      ],
      "metadata": {
        "id": "40auHURq7kEF"
      },
      "execution_count": 49,
      "outputs": []
    },
    {
      "cell_type": "code",
      "source": [
        "ds.head()"
      ],
      "metadata": {
        "colab": {
          "base_uri": "https://localhost:8080/",
          "height": 371
        },
        "id": "7uIHhJ-37rWl",
        "outputId": "2d7247b1-13f2-4251-aff6-5690b1dac47c"
      },
      "execution_count": 50,
      "outputs": [
        {
          "output_type": "execute_result",
          "data": {
            "text/plain": [
              "     Order ID  Total_Weight_kg_x  wt_slab_as_per_x  Customer Pincode_x Zone_x  \\\n",
              "0  2001806210              0.220               0.5              507101      d   \n",
              "1  2001806226              0.480               0.5              486886      d   \n",
              "2  2001806229              0.500               0.5              532484      d   \n",
              "3  2001806232              1.302               1.5              143001      b   \n",
              "4  2001806233              0.245               0.5              515591      d   \n",
              "\n",
              "        AWB Code  Charged Weight  Warehouse Pincode  Customer Pincode Zone  \\\n",
              "0  1091117221940            2.92             121003            140604    b   \n",
              "1  1091117222065            0.68             121003            723146    d   \n",
              "2  1091117222080            0.71             121003            421204    d   \n",
              "3  1091117222124            1.30             121003            507101    d   \n",
              "4  1091117222135            0.78             121003            263139    b   \n",
              "\n",
              "  Type of Shipment  Billing Amount (Rs.)  wt_slab_courier_company  \n",
              "0  Forward charges                 174.5                      3.0  \n",
              "1  Forward charges                  90.2                      1.0  \n",
              "2  Forward charges                  90.2                      1.0  \n",
              "3  Forward charges                 135.0                      1.5  \n",
              "4  Forward charges                  61.3                      1.0  "
            ],
            "text/html": [
              "\n",
              "  <div id=\"df-1dbf9ada-8d3b-428f-aa10-c69265c7699d\">\n",
              "    <div class=\"colab-df-container\">\n",
              "      <div>\n",
              "<style scoped>\n",
              "    .dataframe tbody tr th:only-of-type {\n",
              "        vertical-align: middle;\n",
              "    }\n",
              "\n",
              "    .dataframe tbody tr th {\n",
              "        vertical-align: top;\n",
              "    }\n",
              "\n",
              "    .dataframe thead th {\n",
              "        text-align: right;\n",
              "    }\n",
              "</style>\n",
              "<table border=\"1\" class=\"dataframe\">\n",
              "  <thead>\n",
              "    <tr style=\"text-align: right;\">\n",
              "      <th></th>\n",
              "      <th>Order ID</th>\n",
              "      <th>Total_Weight_kg_x</th>\n",
              "      <th>wt_slab_as_per_x</th>\n",
              "      <th>Customer Pincode_x</th>\n",
              "      <th>Zone_x</th>\n",
              "      <th>AWB Code</th>\n",
              "      <th>Charged Weight</th>\n",
              "      <th>Warehouse Pincode</th>\n",
              "      <th>Customer Pincode</th>\n",
              "      <th>Zone</th>\n",
              "      <th>Type of Shipment</th>\n",
              "      <th>Billing Amount (Rs.)</th>\n",
              "      <th>wt_slab_courier_company</th>\n",
              "    </tr>\n",
              "  </thead>\n",
              "  <tbody>\n",
              "    <tr>\n",
              "      <th>0</th>\n",
              "      <td>2001806210</td>\n",
              "      <td>0.220</td>\n",
              "      <td>0.5</td>\n",
              "      <td>507101</td>\n",
              "      <td>d</td>\n",
              "      <td>1091117221940</td>\n",
              "      <td>2.92</td>\n",
              "      <td>121003</td>\n",
              "      <td>140604</td>\n",
              "      <td>b</td>\n",
              "      <td>Forward charges</td>\n",
              "      <td>174.5</td>\n",
              "      <td>3.0</td>\n",
              "    </tr>\n",
              "    <tr>\n",
              "      <th>1</th>\n",
              "      <td>2001806226</td>\n",
              "      <td>0.480</td>\n",
              "      <td>0.5</td>\n",
              "      <td>486886</td>\n",
              "      <td>d</td>\n",
              "      <td>1091117222065</td>\n",
              "      <td>0.68</td>\n",
              "      <td>121003</td>\n",
              "      <td>723146</td>\n",
              "      <td>d</td>\n",
              "      <td>Forward charges</td>\n",
              "      <td>90.2</td>\n",
              "      <td>1.0</td>\n",
              "    </tr>\n",
              "    <tr>\n",
              "      <th>2</th>\n",
              "      <td>2001806229</td>\n",
              "      <td>0.500</td>\n",
              "      <td>0.5</td>\n",
              "      <td>532484</td>\n",
              "      <td>d</td>\n",
              "      <td>1091117222080</td>\n",
              "      <td>0.71</td>\n",
              "      <td>121003</td>\n",
              "      <td>421204</td>\n",
              "      <td>d</td>\n",
              "      <td>Forward charges</td>\n",
              "      <td>90.2</td>\n",
              "      <td>1.0</td>\n",
              "    </tr>\n",
              "    <tr>\n",
              "      <th>3</th>\n",
              "      <td>2001806232</td>\n",
              "      <td>1.302</td>\n",
              "      <td>1.5</td>\n",
              "      <td>143001</td>\n",
              "      <td>b</td>\n",
              "      <td>1091117222124</td>\n",
              "      <td>1.30</td>\n",
              "      <td>121003</td>\n",
              "      <td>507101</td>\n",
              "      <td>d</td>\n",
              "      <td>Forward charges</td>\n",
              "      <td>135.0</td>\n",
              "      <td>1.5</td>\n",
              "    </tr>\n",
              "    <tr>\n",
              "      <th>4</th>\n",
              "      <td>2001806233</td>\n",
              "      <td>0.245</td>\n",
              "      <td>0.5</td>\n",
              "      <td>515591</td>\n",
              "      <td>d</td>\n",
              "      <td>1091117222135</td>\n",
              "      <td>0.78</td>\n",
              "      <td>121003</td>\n",
              "      <td>263139</td>\n",
              "      <td>b</td>\n",
              "      <td>Forward charges</td>\n",
              "      <td>61.3</td>\n",
              "      <td>1.0</td>\n",
              "    </tr>\n",
              "  </tbody>\n",
              "</table>\n",
              "</div>\n",
              "      <button class=\"colab-df-convert\" onclick=\"convertToInteractive('df-1dbf9ada-8d3b-428f-aa10-c69265c7699d')\"\n",
              "              title=\"Convert this dataframe to an interactive table.\"\n",
              "              style=\"display:none;\">\n",
              "        \n",
              "  <svg xmlns=\"http://www.w3.org/2000/svg\" height=\"24px\"viewBox=\"0 0 24 24\"\n",
              "       width=\"24px\">\n",
              "    <path d=\"M0 0h24v24H0V0z\" fill=\"none\"/>\n",
              "    <path d=\"M18.56 5.44l.94 2.06.94-2.06 2.06-.94-2.06-.94-.94-2.06-.94 2.06-2.06.94zm-11 1L8.5 8.5l.94-2.06 2.06-.94-2.06-.94L8.5 2.5l-.94 2.06-2.06.94zm10 10l.94 2.06.94-2.06 2.06-.94-2.06-.94-.94-2.06-.94 2.06-2.06.94z\"/><path d=\"M17.41 7.96l-1.37-1.37c-.4-.4-.92-.59-1.43-.59-.52 0-1.04.2-1.43.59L10.3 9.45l-7.72 7.72c-.78.78-.78 2.05 0 2.83L4 21.41c.39.39.9.59 1.41.59.51 0 1.02-.2 1.41-.59l7.78-7.78 2.81-2.81c.8-.78.8-2.07 0-2.86zM5.41 20L4 18.59l7.72-7.72 1.47 1.35L5.41 20z\"/>\n",
              "  </svg>\n",
              "      </button>\n",
              "      \n",
              "  <style>\n",
              "    .colab-df-container {\n",
              "      display:flex;\n",
              "      flex-wrap:wrap;\n",
              "      gap: 12px;\n",
              "    }\n",
              "\n",
              "    .colab-df-convert {\n",
              "      background-color: #E8F0FE;\n",
              "      border: none;\n",
              "      border-radius: 50%;\n",
              "      cursor: pointer;\n",
              "      display: none;\n",
              "      fill: #1967D2;\n",
              "      height: 32px;\n",
              "      padding: 0 0 0 0;\n",
              "      width: 32px;\n",
              "    }\n",
              "\n",
              "    .colab-df-convert:hover {\n",
              "      background-color: #E2EBFA;\n",
              "      box-shadow: 0px 1px 2px rgba(60, 64, 67, 0.3), 0px 1px 3px 1px rgba(60, 64, 67, 0.15);\n",
              "      fill: #174EA6;\n",
              "    }\n",
              "\n",
              "    [theme=dark] .colab-df-convert {\n",
              "      background-color: #3B4455;\n",
              "      fill: #D2E3FC;\n",
              "    }\n",
              "\n",
              "    [theme=dark] .colab-df-convert:hover {\n",
              "      background-color: #434B5C;\n",
              "      box-shadow: 0px 1px 3px 1px rgba(0, 0, 0, 0.15);\n",
              "      filter: drop-shadow(0px 1px 2px rgba(0, 0, 0, 0.3));\n",
              "      fill: #FFFFFF;\n",
              "    }\n",
              "  </style>\n",
              "\n",
              "      <script>\n",
              "        const buttonEl =\n",
              "          document.querySelector('#df-1dbf9ada-8d3b-428f-aa10-c69265c7699d button.colab-df-convert');\n",
              "        buttonEl.style.display =\n",
              "          google.colab.kernel.accessAllowed ? 'block' : 'none';\n",
              "\n",
              "        async function convertToInteractive(key) {\n",
              "          const element = document.querySelector('#df-1dbf9ada-8d3b-428f-aa10-c69265c7699d');\n",
              "          const dataTable =\n",
              "            await google.colab.kernel.invokeFunction('convertToInteractive',\n",
              "                                                     [key], {});\n",
              "          if (!dataTable) return;\n",
              "\n",
              "          const docLinkHtml = 'Like what you see? Visit the ' +\n",
              "            '<a target=\"_blank\" href=https://colab.research.google.com/notebooks/data_table.ipynb>data table notebook</a>'\n",
              "            + ' to learn more about interactive tables.';\n",
              "          element.innerHTML = '';\n",
              "          dataTable['output_type'] = 'display_data';\n",
              "          await google.colab.output.renderOutput(dataTable, element);\n",
              "          const docLink = document.createElement('div');\n",
              "          docLink.innerHTML = docLinkHtml;\n",
              "          element.appendChild(docLink);\n",
              "        }\n",
              "      </script>\n",
              "    </div>\n",
              "  </div>\n",
              "  "
            ]
          },
          "metadata": {},
          "execution_count": 50
        }
      ]
    },
    {
      "cell_type": "code",
      "source": [
        "# this function calculated extra weight factor after first .5kg\n",
        "def wt_slb_additional_factor(x):\n",
        "    factor=x/.5\n",
        "    additonal_factor=factor-1\n",
        "    return additonal_factor"
      ],
      "metadata": {
        "id": "TEcxi7ny7yAO"
      },
      "execution_count": 51,
      "outputs": []
    },
    {
      "cell_type": "code",
      "source": [
        "# making a new column in ds dataframe to identify which wtslab contains additional factors\n",
        "ds['additional_factor']=ds['wt_slab_as_per_x'].apply(wt_slb_additional_factor)"
      ],
      "metadata": {
        "id": "5ZoZ0Bff704d"
      },
      "execution_count": 52,
      "outputs": []
    },
    {
      "cell_type": "code",
      "source": [
        "ds.head()"
      ],
      "metadata": {
        "colab": {
          "base_uri": "https://localhost:8080/",
          "height": 391
        },
        "id": "KrrWmbbh8fM1",
        "outputId": "584b9604-17dc-48dd-f7bb-aef3fcd96d0d"
      },
      "execution_count": 56,
      "outputs": [
        {
          "output_type": "execute_result",
          "data": {
            "text/plain": [
              "     Order ID  Total_Weight_kg_x  wt_slab_as_per_x  Customer Pincode_x Zone_x  \\\n",
              "0  2001806210              0.220               0.5              507101      d   \n",
              "1  2001806226              0.480               0.5              486886      d   \n",
              "2  2001806229              0.500               0.5              532484      d   \n",
              "3  2001806232              1.302               1.5              143001      b   \n",
              "4  2001806233              0.245               0.5              515591      d   \n",
              "\n",
              "        AWB Code  Charged Weight  Warehouse Pincode  Customer Pincode Zone  \\\n",
              "0  1091117221940            2.92             121003            140604    b   \n",
              "1  1091117222065            0.68             121003            723146    d   \n",
              "2  1091117222080            0.71             121003            421204    d   \n",
              "3  1091117222124            1.30             121003            507101    d   \n",
              "4  1091117222135            0.78             121003            263139    b   \n",
              "\n",
              "  Type of Shipment  Billing Amount (Rs.)  wt_slab_courier_company  \\\n",
              "0  Forward charges                 174.5                      3.0   \n",
              "1  Forward charges                  90.2                      1.0   \n",
              "2  Forward charges                  90.2                      1.0   \n",
              "3  Forward charges                 135.0                      1.5   \n",
              "4  Forward charges                  61.3                      1.0   \n",
              "\n",
              "   additional_factor  \n",
              "0                0.0  \n",
              "1                0.0  \n",
              "2                0.0  \n",
              "3                2.0  \n",
              "4                0.0  "
            ],
            "text/html": [
              "\n",
              "  <div id=\"df-a94133d0-6c02-4a48-8352-bc11e80e17fe\">\n",
              "    <div class=\"colab-df-container\">\n",
              "      <div>\n",
              "<style scoped>\n",
              "    .dataframe tbody tr th:only-of-type {\n",
              "        vertical-align: middle;\n",
              "    }\n",
              "\n",
              "    .dataframe tbody tr th {\n",
              "        vertical-align: top;\n",
              "    }\n",
              "\n",
              "    .dataframe thead th {\n",
              "        text-align: right;\n",
              "    }\n",
              "</style>\n",
              "<table border=\"1\" class=\"dataframe\">\n",
              "  <thead>\n",
              "    <tr style=\"text-align: right;\">\n",
              "      <th></th>\n",
              "      <th>Order ID</th>\n",
              "      <th>Total_Weight_kg_x</th>\n",
              "      <th>wt_slab_as_per_x</th>\n",
              "      <th>Customer Pincode_x</th>\n",
              "      <th>Zone_x</th>\n",
              "      <th>AWB Code</th>\n",
              "      <th>Charged Weight</th>\n",
              "      <th>Warehouse Pincode</th>\n",
              "      <th>Customer Pincode</th>\n",
              "      <th>Zone</th>\n",
              "      <th>Type of Shipment</th>\n",
              "      <th>Billing Amount (Rs.)</th>\n",
              "      <th>wt_slab_courier_company</th>\n",
              "      <th>additional_factor</th>\n",
              "    </tr>\n",
              "  </thead>\n",
              "  <tbody>\n",
              "    <tr>\n",
              "      <th>0</th>\n",
              "      <td>2001806210</td>\n",
              "      <td>0.220</td>\n",
              "      <td>0.5</td>\n",
              "      <td>507101</td>\n",
              "      <td>d</td>\n",
              "      <td>1091117221940</td>\n",
              "      <td>2.92</td>\n",
              "      <td>121003</td>\n",
              "      <td>140604</td>\n",
              "      <td>b</td>\n",
              "      <td>Forward charges</td>\n",
              "      <td>174.5</td>\n",
              "      <td>3.0</td>\n",
              "      <td>0.0</td>\n",
              "    </tr>\n",
              "    <tr>\n",
              "      <th>1</th>\n",
              "      <td>2001806226</td>\n",
              "      <td>0.480</td>\n",
              "      <td>0.5</td>\n",
              "      <td>486886</td>\n",
              "      <td>d</td>\n",
              "      <td>1091117222065</td>\n",
              "      <td>0.68</td>\n",
              "      <td>121003</td>\n",
              "      <td>723146</td>\n",
              "      <td>d</td>\n",
              "      <td>Forward charges</td>\n",
              "      <td>90.2</td>\n",
              "      <td>1.0</td>\n",
              "      <td>0.0</td>\n",
              "    </tr>\n",
              "    <tr>\n",
              "      <th>2</th>\n",
              "      <td>2001806229</td>\n",
              "      <td>0.500</td>\n",
              "      <td>0.5</td>\n",
              "      <td>532484</td>\n",
              "      <td>d</td>\n",
              "      <td>1091117222080</td>\n",
              "      <td>0.71</td>\n",
              "      <td>121003</td>\n",
              "      <td>421204</td>\n",
              "      <td>d</td>\n",
              "      <td>Forward charges</td>\n",
              "      <td>90.2</td>\n",
              "      <td>1.0</td>\n",
              "      <td>0.0</td>\n",
              "    </tr>\n",
              "    <tr>\n",
              "      <th>3</th>\n",
              "      <td>2001806232</td>\n",
              "      <td>1.302</td>\n",
              "      <td>1.5</td>\n",
              "      <td>143001</td>\n",
              "      <td>b</td>\n",
              "      <td>1091117222124</td>\n",
              "      <td>1.30</td>\n",
              "      <td>121003</td>\n",
              "      <td>507101</td>\n",
              "      <td>d</td>\n",
              "      <td>Forward charges</td>\n",
              "      <td>135.0</td>\n",
              "      <td>1.5</td>\n",
              "      <td>2.0</td>\n",
              "    </tr>\n",
              "    <tr>\n",
              "      <th>4</th>\n",
              "      <td>2001806233</td>\n",
              "      <td>0.245</td>\n",
              "      <td>0.5</td>\n",
              "      <td>515591</td>\n",
              "      <td>d</td>\n",
              "      <td>1091117222135</td>\n",
              "      <td>0.78</td>\n",
              "      <td>121003</td>\n",
              "      <td>263139</td>\n",
              "      <td>b</td>\n",
              "      <td>Forward charges</td>\n",
              "      <td>61.3</td>\n",
              "      <td>1.0</td>\n",
              "      <td>0.0</td>\n",
              "    </tr>\n",
              "  </tbody>\n",
              "</table>\n",
              "</div>\n",
              "      <button class=\"colab-df-convert\" onclick=\"convertToInteractive('df-a94133d0-6c02-4a48-8352-bc11e80e17fe')\"\n",
              "              title=\"Convert this dataframe to an interactive table.\"\n",
              "              style=\"display:none;\">\n",
              "        \n",
              "  <svg xmlns=\"http://www.w3.org/2000/svg\" height=\"24px\"viewBox=\"0 0 24 24\"\n",
              "       width=\"24px\">\n",
              "    <path d=\"M0 0h24v24H0V0z\" fill=\"none\"/>\n",
              "    <path d=\"M18.56 5.44l.94 2.06.94-2.06 2.06-.94-2.06-.94-.94-2.06-.94 2.06-2.06.94zm-11 1L8.5 8.5l.94-2.06 2.06-.94-2.06-.94L8.5 2.5l-.94 2.06-2.06.94zm10 10l.94 2.06.94-2.06 2.06-.94-2.06-.94-.94-2.06-.94 2.06-2.06.94z\"/><path d=\"M17.41 7.96l-1.37-1.37c-.4-.4-.92-.59-1.43-.59-.52 0-1.04.2-1.43.59L10.3 9.45l-7.72 7.72c-.78.78-.78 2.05 0 2.83L4 21.41c.39.39.9.59 1.41.59.51 0 1.02-.2 1.41-.59l7.78-7.78 2.81-2.81c.8-.78.8-2.07 0-2.86zM5.41 20L4 18.59l7.72-7.72 1.47 1.35L5.41 20z\"/>\n",
              "  </svg>\n",
              "      </button>\n",
              "      \n",
              "  <style>\n",
              "    .colab-df-container {\n",
              "      display:flex;\n",
              "      flex-wrap:wrap;\n",
              "      gap: 12px;\n",
              "    }\n",
              "\n",
              "    .colab-df-convert {\n",
              "      background-color: #E8F0FE;\n",
              "      border: none;\n",
              "      border-radius: 50%;\n",
              "      cursor: pointer;\n",
              "      display: none;\n",
              "      fill: #1967D2;\n",
              "      height: 32px;\n",
              "      padding: 0 0 0 0;\n",
              "      width: 32px;\n",
              "    }\n",
              "\n",
              "    .colab-df-convert:hover {\n",
              "      background-color: #E2EBFA;\n",
              "      box-shadow: 0px 1px 2px rgba(60, 64, 67, 0.3), 0px 1px 3px 1px rgba(60, 64, 67, 0.15);\n",
              "      fill: #174EA6;\n",
              "    }\n",
              "\n",
              "    [theme=dark] .colab-df-convert {\n",
              "      background-color: #3B4455;\n",
              "      fill: #D2E3FC;\n",
              "    }\n",
              "\n",
              "    [theme=dark] .colab-df-convert:hover {\n",
              "      background-color: #434B5C;\n",
              "      box-shadow: 0px 1px 3px 1px rgba(0, 0, 0, 0.15);\n",
              "      filter: drop-shadow(0px 1px 2px rgba(0, 0, 0, 0.3));\n",
              "      fill: #FFFFFF;\n",
              "    }\n",
              "  </style>\n",
              "\n",
              "      <script>\n",
              "        const buttonEl =\n",
              "          document.querySelector('#df-a94133d0-6c02-4a48-8352-bc11e80e17fe button.colab-df-convert');\n",
              "        buttonEl.style.display =\n",
              "          google.colab.kernel.accessAllowed ? 'block' : 'none';\n",
              "\n",
              "        async function convertToInteractive(key) {\n",
              "          const element = document.querySelector('#df-a94133d0-6c02-4a48-8352-bc11e80e17fe');\n",
              "          const dataTable =\n",
              "            await google.colab.kernel.invokeFunction('convertToInteractive',\n",
              "                                                     [key], {});\n",
              "          if (!dataTable) return;\n",
              "\n",
              "          const docLinkHtml = 'Like what you see? Visit the ' +\n",
              "            '<a target=\"_blank\" href=https://colab.research.google.com/notebooks/data_table.ipynb>data table notebook</a>'\n",
              "            + ' to learn more about interactive tables.';\n",
              "          element.innerHTML = '';\n",
              "          dataTable['output_type'] = 'display_data';\n",
              "          await google.colab.output.renderOutput(dataTable, element);\n",
              "          const docLink = document.createElement('div');\n",
              "          docLink.innerHTML = docLinkHtml;\n",
              "          element.appendChild(docLink);\n",
              "        }\n",
              "      </script>\n",
              "    </div>\n",
              "  </div>\n",
              "  "
            ]
          },
          "metadata": {},
          "execution_count": 56
        }
      ]
    },
    {
      "cell_type": "code",
      "source": [
        "ds['Type of Shipment'].value_counts()"
      ],
      "metadata": {
        "colab": {
          "base_uri": "https://localhost:8080/"
        },
        "id": "8vb6L9dU7371",
        "outputId": "aa1c0afc-d1ab-4f19-e5f2-955e638b85ed"
      },
      "execution_count": 59,
      "outputs": [
        {
          "output_type": "execute_result",
          "data": {
            "text/plain": [
              "Forward charges            109\n",
              "Forward and RTO charges     15\n",
              "Name: Type of Shipment, dtype: int64"
            ]
          },
          "metadata": {},
          "execution_count": 59
        }
      ]
    },
    {
      "cell_type": "code",
      "source": [
        "# we have two types of shipments Forward charges and Forward and RTO charges.so we groupby them applying charges rule as given "
      ],
      "metadata": {
        "id": "9oYNtchu8DCl"
      },
      "execution_count": 61,
      "outputs": []
    },
    {
      "cell_type": "code",
      "source": [
        "x_fc=ds.groupby('Type of Shipment').get_group('Forward charges') # this data contains only those records which have Forward charges mentioned"
      ],
      "metadata": {
        "id": "W-Si1W8G8uVN"
      },
      "execution_count": 60,
      "outputs": []
    },
    {
      "cell_type": "code",
      "source": [
        "# cost functions for forward charges \n",
        "def fixed_forward_charge(x):\n",
        "    if(x=='a'):\n",
        "        return 29.5\n",
        "    elif(x=='b'):\n",
        "        return 33\n",
        "    elif(x=='c'):\n",
        "        return 40.1\n",
        "    elif(x=='d'):\n",
        "        return 45.4\n",
        "    elif(x=='e'):\n",
        "        return 56.6\n",
        "def additional_forward_charge(x):\n",
        "    if(x=='a'):\n",
        "        return 23.6\n",
        "    elif(x=='b'):\n",
        "        return 28.3\n",
        "    elif(x=='c'):\n",
        "        return 38.9\n",
        "    elif(x=='d'):\n",
        "        return 44.8\n",
        "    elif(x=='e'):\n",
        "        return 55.5"
      ],
      "metadata": {
        "id": "vvjmWugX8yPF"
      },
      "execution_count": 62,
      "outputs": []
    },
    {
      "cell_type": "code",
      "source": [
        "x_fc['fixed_charge_fc']=x_fc['Zone_x'].apply(fixed_forward_charge)\n",
        "x_fc['additional_charge_fc']=x_fc['Zone_x'].apply(additional_forward_charge)"
      ],
      "metadata": {
        "id": "mNwldTy882vl"
      },
      "execution_count": 63,
      "outputs": []
    },
    {
      "cell_type": "code",
      "source": [
        "# expected cost by company x which has Forward charges \n",
        "x_fc['Expected_cost']=x_fc['fixed_charge_fc'] + x_fc['additional_factor']*x_fc['additional_charge_fc']"
      ],
      "metadata": {
        "id": "rN6KSqMD8582"
      },
      "execution_count": 64,
      "outputs": []
    },
    {
      "cell_type": "code",
      "source": [
        "# x_fc_rto contains columns which ahve forward and rto rate charge\n",
        "x_fc_rto=ds.groupby('Type of Shipment').get_group('Forward and RTO charges')"
      ],
      "metadata": {
        "id": "8xX8zrDn89BF"
      },
      "execution_count": 65,
      "outputs": []
    },
    {
      "cell_type": "code",
      "source": [
        "x_fc_rto['fixed_charge_fc']=x_fc_rto['Zone_x'].apply(fixed_forward_charge)\n",
        "x_fc_rto['additional_charge_fc']=x_fc_rto['Zone_x'].apply(additional_forward_charge)"
      ],
      "metadata": {
        "id": "xiYo1r0p9HbF"
      },
      "execution_count": 66,
      "outputs": []
    },
    {
      "cell_type": "code",
      "source": [
        "# function for Forward and RTO charges \n",
        "def fixed_rto_charge_zone_wise(x):\n",
        "    if(x=='a'):\n",
        "        return 13.6\n",
        "    elif(x=='b'):\n",
        "        return 20.5\n",
        "    elif(x=='c'):\n",
        "        return 31.9\n",
        "    elif(x=='d'):\n",
        "        return 41.3\n",
        "    elif(x=='e'):\n",
        "        return 50.7\n",
        "def additional_rto_charge_zone_wise(x):\n",
        "    if(x=='a'):\n",
        "        return 23.6\n",
        "    elif(x=='b'):\n",
        "        return 28.3\n",
        "    elif(x=='c'):\n",
        "        return 38.9\n",
        "    elif(x=='d'):\n",
        "        return 44.8\n",
        "    elif(x=='e'):\n",
        "        return 55.5"
      ],
      "metadata": {
        "id": "UcCcysS79KeN"
      },
      "execution_count": 67,
      "outputs": []
    },
    {
      "cell_type": "code",
      "source": [
        "x_fc_rto['fixed_rto_charge']=x_fc_rto['Zone_x'].apply(fixed_rto_charge_zone_wise)\n",
        "x_fc_rto['additional_rto_charge']=x_fc_rto['Zone_x'].apply(additional_rto_charge_zone_wise)"
      ],
      "metadata": {
        "id": "cMPd-go39M7t"
      },
      "execution_count": 68,
      "outputs": []
    },
    {
      "cell_type": "markdown",
      "source": [
        "calculating expected cost"
      ],
      "metadata": {
        "id": "5s9ccB6X9RtX"
      }
    },
    {
      "cell_type": "code",
      "source": [
        "x_fc['Expected_cost']=x_fc['fixed_charge_fc'] + x_fc['additional_factor']*x_fc['additional_charge_fc']\n",
        "x_fc_rto['Expected_cost']=x_fc_rto['fixed_charge_fc']+x_fc_rto['fixed_rto_charge']+x_fc_rto['additional_rto_charge']*x_fc_rto['additional_factor']+x_fc_rto['additional_charge_fc']*x_fc_rto['additional_factor']"
      ],
      "metadata": {
        "id": "7rA7-IVn9Sll"
      },
      "execution_count": 69,
      "outputs": []
    },
    {
      "cell_type": "code",
      "source": [
        "ds=pd.concat([x_fc,x_fc_rto])"
      ],
      "metadata": {
        "id": "ErA_pwyy9uEk"
      },
      "execution_count": 70,
      "outputs": []
    },
    {
      "cell_type": "code",
      "source": [
        "ds.sort_index(inplace=True)"
      ],
      "metadata": {
        "id": "hyGClf9C9y3-"
      },
      "execution_count": 71,
      "outputs": []
    },
    {
      "cell_type": "code",
      "source": [
        "# making column diffeence which shows the diffeences between the cost \n",
        "ds['difference']=ds['Expected_cost']-ds['Billing Amount (Rs.)']\n",
        " \n",
        "# making output table 1 as required for solution \n",
        "df=pd.DataFrame(ds[['Order ID','AWB Code','Total_Weight_kg_x','wt_slab_as_per_x','Charged Weight','wt_slab_courier_company',\n",
        "                   'Zone_x','Zone','Expected_cost','Billing Amount (Rs.)','difference']])"
      ],
      "metadata": {
        "id": "UP4lCLoh973G"
      },
      "execution_count": 73,
      "outputs": []
    },
    {
      "cell_type": "code",
      "source": [
        "df"
      ],
      "metadata": {
        "colab": {
          "base_uri": "https://localhost:8080/",
          "height": 467
        },
        "id": "irp48Y0v-NJc",
        "outputId": "8864248f-adc9-49b9-dca8-d53910ffe817"
      },
      "execution_count": 74,
      "outputs": [
        {
          "output_type": "execute_result",
          "data": {
            "text/plain": [
              "       Order ID       AWB Code  Total_Weight_kg_x  wt_slab_as_per_x  \\\n",
              "0    2001806210  1091117221940              0.220               0.5   \n",
              "1    2001806226  1091117222065              0.480               0.5   \n",
              "2    2001806229  1091117222080              0.500               0.5   \n",
              "3    2001806232  1091117222124              1.302               1.5   \n",
              "4    2001806233  1091117222135              0.245               0.5   \n",
              "..          ...            ...                ...               ...   \n",
              "119  2001821995  1091121183730              0.477               0.5   \n",
              "120  2001822466  1091121305541              1.376               1.5   \n",
              "121  2001823564  1091121666133              0.672               1.0   \n",
              "122  2001825261  1091121981575              1.557               2.0   \n",
              "123  2001827036  1091122418320              2.176               2.5   \n",
              "\n",
              "     Charged Weight  wt_slab_courier_company Zone_x Zone  Expected_cost  \\\n",
              "0              2.92                      3.0      d    b           45.4   \n",
              "1              0.68                      1.0      d    d           45.4   \n",
              "2              0.71                      1.0      d    d           45.4   \n",
              "3              1.30                      1.5      b    d           89.6   \n",
              "4              0.78                      1.0      d    b           45.4   \n",
              "..              ...                      ...    ...  ...            ...   \n",
              "119            0.50                      0.5      b    d           33.0   \n",
              "120            1.10                      1.5      b    d           89.6   \n",
              "121            0.70                      1.0      b    d          110.1   \n",
              "122            1.60                      2.0      e    d          440.3   \n",
              "123            1.60                      2.0      b    b          146.2   \n",
              "\n",
              "     Billing Amount (Rs.)  difference  \n",
              "0                   174.5      -129.1  \n",
              "1                    90.2       -44.8  \n",
              "2                    90.2       -44.8  \n",
              "3                   135.0       -45.4  \n",
              "4                    61.3       -15.9  \n",
              "..                    ...         ...  \n",
              "119                  45.4       -12.4  \n",
              "120                 135.0       -45.4  \n",
              "121                 172.8       -62.7  \n",
              "122                 345.0        95.3  \n",
              "123                 117.9        28.3  \n",
              "\n",
              "[124 rows x 11 columns]"
            ],
            "text/html": [
              "\n",
              "  <div id=\"df-e42cfe32-1a39-46dc-97f3-1d470b297b92\">\n",
              "    <div class=\"colab-df-container\">\n",
              "      <div>\n",
              "<style scoped>\n",
              "    .dataframe tbody tr th:only-of-type {\n",
              "        vertical-align: middle;\n",
              "    }\n",
              "\n",
              "    .dataframe tbody tr th {\n",
              "        vertical-align: top;\n",
              "    }\n",
              "\n",
              "    .dataframe thead th {\n",
              "        text-align: right;\n",
              "    }\n",
              "</style>\n",
              "<table border=\"1\" class=\"dataframe\">\n",
              "  <thead>\n",
              "    <tr style=\"text-align: right;\">\n",
              "      <th></th>\n",
              "      <th>Order ID</th>\n",
              "      <th>AWB Code</th>\n",
              "      <th>Total_Weight_kg_x</th>\n",
              "      <th>wt_slab_as_per_x</th>\n",
              "      <th>Charged Weight</th>\n",
              "      <th>wt_slab_courier_company</th>\n",
              "      <th>Zone_x</th>\n",
              "      <th>Zone</th>\n",
              "      <th>Expected_cost</th>\n",
              "      <th>Billing Amount (Rs.)</th>\n",
              "      <th>difference</th>\n",
              "    </tr>\n",
              "  </thead>\n",
              "  <tbody>\n",
              "    <tr>\n",
              "      <th>0</th>\n",
              "      <td>2001806210</td>\n",
              "      <td>1091117221940</td>\n",
              "      <td>0.220</td>\n",
              "      <td>0.5</td>\n",
              "      <td>2.92</td>\n",
              "      <td>3.0</td>\n",
              "      <td>d</td>\n",
              "      <td>b</td>\n",
              "      <td>45.4</td>\n",
              "      <td>174.5</td>\n",
              "      <td>-129.1</td>\n",
              "    </tr>\n",
              "    <tr>\n",
              "      <th>1</th>\n",
              "      <td>2001806226</td>\n",
              "      <td>1091117222065</td>\n",
              "      <td>0.480</td>\n",
              "      <td>0.5</td>\n",
              "      <td>0.68</td>\n",
              "      <td>1.0</td>\n",
              "      <td>d</td>\n",
              "      <td>d</td>\n",
              "      <td>45.4</td>\n",
              "      <td>90.2</td>\n",
              "      <td>-44.8</td>\n",
              "    </tr>\n",
              "    <tr>\n",
              "      <th>2</th>\n",
              "      <td>2001806229</td>\n",
              "      <td>1091117222080</td>\n",
              "      <td>0.500</td>\n",
              "      <td>0.5</td>\n",
              "      <td>0.71</td>\n",
              "      <td>1.0</td>\n",
              "      <td>d</td>\n",
              "      <td>d</td>\n",
              "      <td>45.4</td>\n",
              "      <td>90.2</td>\n",
              "      <td>-44.8</td>\n",
              "    </tr>\n",
              "    <tr>\n",
              "      <th>3</th>\n",
              "      <td>2001806232</td>\n",
              "      <td>1091117222124</td>\n",
              "      <td>1.302</td>\n",
              "      <td>1.5</td>\n",
              "      <td>1.30</td>\n",
              "      <td>1.5</td>\n",
              "      <td>b</td>\n",
              "      <td>d</td>\n",
              "      <td>89.6</td>\n",
              "      <td>135.0</td>\n",
              "      <td>-45.4</td>\n",
              "    </tr>\n",
              "    <tr>\n",
              "      <th>4</th>\n",
              "      <td>2001806233</td>\n",
              "      <td>1091117222135</td>\n",
              "      <td>0.245</td>\n",
              "      <td>0.5</td>\n",
              "      <td>0.78</td>\n",
              "      <td>1.0</td>\n",
              "      <td>d</td>\n",
              "      <td>b</td>\n",
              "      <td>45.4</td>\n",
              "      <td>61.3</td>\n",
              "      <td>-15.9</td>\n",
              "    </tr>\n",
              "    <tr>\n",
              "      <th>...</th>\n",
              "      <td>...</td>\n",
              "      <td>...</td>\n",
              "      <td>...</td>\n",
              "      <td>...</td>\n",
              "      <td>...</td>\n",
              "      <td>...</td>\n",
              "      <td>...</td>\n",
              "      <td>...</td>\n",
              "      <td>...</td>\n",
              "      <td>...</td>\n",
              "      <td>...</td>\n",
              "    </tr>\n",
              "    <tr>\n",
              "      <th>119</th>\n",
              "      <td>2001821995</td>\n",
              "      <td>1091121183730</td>\n",
              "      <td>0.477</td>\n",
              "      <td>0.5</td>\n",
              "      <td>0.50</td>\n",
              "      <td>0.5</td>\n",
              "      <td>b</td>\n",
              "      <td>d</td>\n",
              "      <td>33.0</td>\n",
              "      <td>45.4</td>\n",
              "      <td>-12.4</td>\n",
              "    </tr>\n",
              "    <tr>\n",
              "      <th>120</th>\n",
              "      <td>2001822466</td>\n",
              "      <td>1091121305541</td>\n",
              "      <td>1.376</td>\n",
              "      <td>1.5</td>\n",
              "      <td>1.10</td>\n",
              "      <td>1.5</td>\n",
              "      <td>b</td>\n",
              "      <td>d</td>\n",
              "      <td>89.6</td>\n",
              "      <td>135.0</td>\n",
              "      <td>-45.4</td>\n",
              "    </tr>\n",
              "    <tr>\n",
              "      <th>121</th>\n",
              "      <td>2001823564</td>\n",
              "      <td>1091121666133</td>\n",
              "      <td>0.672</td>\n",
              "      <td>1.0</td>\n",
              "      <td>0.70</td>\n",
              "      <td>1.0</td>\n",
              "      <td>b</td>\n",
              "      <td>d</td>\n",
              "      <td>110.1</td>\n",
              "      <td>172.8</td>\n",
              "      <td>-62.7</td>\n",
              "    </tr>\n",
              "    <tr>\n",
              "      <th>122</th>\n",
              "      <td>2001825261</td>\n",
              "      <td>1091121981575</td>\n",
              "      <td>1.557</td>\n",
              "      <td>2.0</td>\n",
              "      <td>1.60</td>\n",
              "      <td>2.0</td>\n",
              "      <td>e</td>\n",
              "      <td>d</td>\n",
              "      <td>440.3</td>\n",
              "      <td>345.0</td>\n",
              "      <td>95.3</td>\n",
              "    </tr>\n",
              "    <tr>\n",
              "      <th>123</th>\n",
              "      <td>2001827036</td>\n",
              "      <td>1091122418320</td>\n",
              "      <td>2.176</td>\n",
              "      <td>2.5</td>\n",
              "      <td>1.60</td>\n",
              "      <td>2.0</td>\n",
              "      <td>b</td>\n",
              "      <td>b</td>\n",
              "      <td>146.2</td>\n",
              "      <td>117.9</td>\n",
              "      <td>28.3</td>\n",
              "    </tr>\n",
              "  </tbody>\n",
              "</table>\n",
              "<p>124 rows × 11 columns</p>\n",
              "</div>\n",
              "      <button class=\"colab-df-convert\" onclick=\"convertToInteractive('df-e42cfe32-1a39-46dc-97f3-1d470b297b92')\"\n",
              "              title=\"Convert this dataframe to an interactive table.\"\n",
              "              style=\"display:none;\">\n",
              "        \n",
              "  <svg xmlns=\"http://www.w3.org/2000/svg\" height=\"24px\"viewBox=\"0 0 24 24\"\n",
              "       width=\"24px\">\n",
              "    <path d=\"M0 0h24v24H0V0z\" fill=\"none\"/>\n",
              "    <path d=\"M18.56 5.44l.94 2.06.94-2.06 2.06-.94-2.06-.94-.94-2.06-.94 2.06-2.06.94zm-11 1L8.5 8.5l.94-2.06 2.06-.94-2.06-.94L8.5 2.5l-.94 2.06-2.06.94zm10 10l.94 2.06.94-2.06 2.06-.94-2.06-.94-.94-2.06-.94 2.06-2.06.94z\"/><path d=\"M17.41 7.96l-1.37-1.37c-.4-.4-.92-.59-1.43-.59-.52 0-1.04.2-1.43.59L10.3 9.45l-7.72 7.72c-.78.78-.78 2.05 0 2.83L4 21.41c.39.39.9.59 1.41.59.51 0 1.02-.2 1.41-.59l7.78-7.78 2.81-2.81c.8-.78.8-2.07 0-2.86zM5.41 20L4 18.59l7.72-7.72 1.47 1.35L5.41 20z\"/>\n",
              "  </svg>\n",
              "      </button>\n",
              "      \n",
              "  <style>\n",
              "    .colab-df-container {\n",
              "      display:flex;\n",
              "      flex-wrap:wrap;\n",
              "      gap: 12px;\n",
              "    }\n",
              "\n",
              "    .colab-df-convert {\n",
              "      background-color: #E8F0FE;\n",
              "      border: none;\n",
              "      border-radius: 50%;\n",
              "      cursor: pointer;\n",
              "      display: none;\n",
              "      fill: #1967D2;\n",
              "      height: 32px;\n",
              "      padding: 0 0 0 0;\n",
              "      width: 32px;\n",
              "    }\n",
              "\n",
              "    .colab-df-convert:hover {\n",
              "      background-color: #E2EBFA;\n",
              "      box-shadow: 0px 1px 2px rgba(60, 64, 67, 0.3), 0px 1px 3px 1px rgba(60, 64, 67, 0.15);\n",
              "      fill: #174EA6;\n",
              "    }\n",
              "\n",
              "    [theme=dark] .colab-df-convert {\n",
              "      background-color: #3B4455;\n",
              "      fill: #D2E3FC;\n",
              "    }\n",
              "\n",
              "    [theme=dark] .colab-df-convert:hover {\n",
              "      background-color: #434B5C;\n",
              "      box-shadow: 0px 1px 3px 1px rgba(0, 0, 0, 0.15);\n",
              "      filter: drop-shadow(0px 1px 2px rgba(0, 0, 0, 0.3));\n",
              "      fill: #FFFFFF;\n",
              "    }\n",
              "  </style>\n",
              "\n",
              "      <script>\n",
              "        const buttonEl =\n",
              "          document.querySelector('#df-e42cfe32-1a39-46dc-97f3-1d470b297b92 button.colab-df-convert');\n",
              "        buttonEl.style.display =\n",
              "          google.colab.kernel.accessAllowed ? 'block' : 'none';\n",
              "\n",
              "        async function convertToInteractive(key) {\n",
              "          const element = document.querySelector('#df-e42cfe32-1a39-46dc-97f3-1d470b297b92');\n",
              "          const dataTable =\n",
              "            await google.colab.kernel.invokeFunction('convertToInteractive',\n",
              "                                                     [key], {});\n",
              "          if (!dataTable) return;\n",
              "\n",
              "          const docLinkHtml = 'Like what you see? Visit the ' +\n",
              "            '<a target=\"_blank\" href=https://colab.research.google.com/notebooks/data_table.ipynb>data table notebook</a>'\n",
              "            + ' to learn more about interactive tables.';\n",
              "          element.innerHTML = '';\n",
              "          dataTable['output_type'] = 'display_data';\n",
              "          await google.colab.output.renderOutput(dataTable, element);\n",
              "          const docLink = document.createElement('div');\n",
              "          docLink.innerHTML = docLinkHtml;\n",
              "          element.appendChild(docLink);\n",
              "        }\n",
              "      </script>\n",
              "    </div>\n",
              "  </div>\n",
              "  "
            ]
          },
          "metadata": {},
          "execution_count": 74
        }
      ]
    },
    {
      "cell_type": "code",
      "source": [
        "import matplotlib.pyplot as plt\n",
        "\n",
        "df.hist(bins=50, figsize=(20,15))\n",
        "plt.tight_layout()\n",
        "plt.show()\n"
      ],
      "metadata": {
        "colab": {
          "base_uri": "https://localhost:8080/",
          "height": 1000
        },
        "id": "LzBcTFyuJ1g8",
        "outputId": "bbef2e55-04c0-4910-d87e-95e035991518"
      },
      "execution_count": 126,
      "outputs": [
        {
          "output_type": "display_data",
          "data": {
            "text/plain": [
              "<Figure size 1440x1080 with 9 Axes>"
            ],
            "image/png": "[encoded data removed]"
          },
          "metadata": {
            "needs_background": "light"
          }
        }
      ]
    },
    {
      "cell_type": "code",
      "source": [
        "import matplotlib.pyplot as plt\n",
        "plt.figure(figsize=(22, 10))\n",
        "plt.plot(df['Expected_cost'], color='blue', label='Expected Cost')\n",
        "plt.plot(df['Billing Amount (Rs.)'], color='red', label='Billing Amount (Rs.)')\n",
        "plt.title('Expected Cost vs Billing Amount')\n",
        "plt.xlabel('Order ID')\n",
        "plt.ylabel('Amount (Rs.)')\n",
        "plt.legend()\n",
        "plt.show()\n"
      ],
      "metadata": {
        "colab": {
          "base_uri": "https://localhost:8080/",
          "height": 621
        },
        "id": "wkbmWAd-J-fD",
        "outputId": "cc5b47f1-1c5f-415c-ae92-ba1ba2dade59"
      },
      "execution_count": 134,
      "outputs": [
        {
          "output_type": "display_data",
          "data": {
            "text/plain": [
              "<Figure size 1584x720 with 1 Axes>"
            ],
            "image/png": "[encoded data removed]"
          },
          "metadata": {
            "needs_background": "light"
          }
        }
      ]
    },
    {
      "cell_type": "markdown",
      "source": [
        "**CONCLUSION** \n",
        "\n",
        "\n",
        "It can be concluded from the above plot that the billing amount charged by the courier company is increasing as compared to the expected cost. The difference between the two values is not constant and there seems to be a clear upward trend in the billing amount. This could indicate that the courier company is overcharging its customers or using a different pricing model for their deliveries. Further investigation may be needed to determine the cause of this difference"
      ],
      "metadata": {
        "id": "1EJYX2yaOfR8"
      }
    },
    {
      "cell_type": "code",
      "source": [
        "plt.figure(figsize=(15, 7))\n",
        "plt.bar(df['Zone_x'].value_counts().index, df['Zone_x'].value_counts().values, color='purple')\n",
        "plt.title('Number of Orders by Zone_x')\n",
        "plt.xlabel('Zone_x')\n",
        "plt.ylabel('Number of Orders')\n",
        "plt.show()\n"
      ],
      "metadata": {
        "colab": {
          "base_uri": "https://localhost:8080/",
          "height": 459
        },
        "id": "x881gCkTLy5U",
        "outputId": "b2ea6196-ef9d-4cff-d2f0-8f39c2b60676"
      },
      "execution_count": 145,
      "outputs": [
        {
          "output_type": "display_data",
          "data": {
            "text/plain": [
              "<Figure size 1080x504 with 1 Axes>"
            ],
            "image/png": "[encoded data removed]"
          },
          "metadata": {
            "needs_background": "light"
          }
        }
      ]
    },
    {
      "cell_type": "code",
      "source": [
        "#df.to_csv('Cointab_Output_1.csv') # this code has been used to export dataframe "
      ],
      "metadata": {
        "id": "PSFPwcvz-Rhm"
      },
      "execution_count": 75,
      "outputs": []
    },
    {
      "cell_type": "markdown",
      "source": [
        "## Output 2"
      ],
      "metadata": {
        "id": "BRMzXmEe-W1t"
      }
    },
    {
      "cell_type": "code",
      "source": [
        "print(\"Total orders where X has been correctly charged count = {}\".format(ds[ds['difference']==0].shape[0]))\n",
        "print(\"Total Correct invoice amount {}\".format(ds[ds['difference']==0]['Expected_cost'].sum()))"
      ],
      "metadata": {
        "colab": {
          "base_uri": "https://localhost:8080/"
        },
        "id": "aPxijbMW-a3f",
        "outputId": "51b82bae-456a-4ebf-e198-20bdbde6f59b"
      },
      "execution_count": 76,
      "outputs": [
        {
          "output_type": "stream",
          "name": "stdout",
          "text": [
            "Total orders where X has been correctly charged count = 14\n",
            "Total Correct invoice amount 1044.0\n"
          ]
        }
      ]
    },
    {
      "cell_type": "code",
      "source": [
        "(ds['difference']==0).value_counts()"
      ],
      "metadata": {
        "colab": {
          "base_uri": "https://localhost:8080/"
        },
        "id": "zsVTtSkWFUM0",
        "outputId": "e55fb404-a6bd-4325-fffa-f78ca37162e1"
      },
      "execution_count": 116,
      "outputs": [
        {
          "output_type": "execute_result",
          "data": {
            "text/plain": [
              "False    110\n",
              "True      14\n",
              "Name: difference, dtype: int64"
            ]
          },
          "metadata": {},
          "execution_count": 116
        }
      ]
    },
    {
      "cell_type": "code",
      "source": [
        "import matplotlib.pyplot as plt\n",
        "\n",
        "# Data\n",
        "correct_count = (ds['difference']==0).value_counts()[True]\n",
        "incorrect_count = (ds['difference']==0).value_counts()[False]\n",
        "\n",
        "# Plot\n",
        "labels = ['Correct', 'Incorrect']\n",
        "sizes = [correct_count, incorrect_count]\n",
        "\n",
        "fig1, ax1 = plt.subplots(figsize=(15, 7))\n",
        "\n",
        "ax1.pie(sizes, labels=labels, autopct='%1.1f%%', shadow=True, startangle=90)\n",
        "ax1.axis('equal')\n",
        "plt.title(\"Comparison of Correctly Charged Orders\")\n",
        "plt.show()\n",
        "\n"
      ],
      "metadata": {
        "colab": {
          "base_uri": "https://localhost:8080/",
          "height": 427
        },
        "id": "HiQizBqO_SPF",
        "outputId": "40849e64-cc48-411e-ad73-7877cad83d8c"
      },
      "execution_count": 142,
      "outputs": [
        {
          "output_type": "display_data",
          "data": {
            "text/plain": [
              "<Figure size 1080x504 with 1 Axes>"
            ],
            "image/png": "[encoded data removed]"
          },
          "metadata": {}
        }
      ]
    },
    {
      "cell_type": "code",
      "source": [
        "# total orders where x has been overcharged\n",
        "overcharged=ds[ds['Billing Amount (Rs.)']>ds['Expected_cost']]\n",
        "\n",
        "over_amount=overcharged['Billing Amount (Rs.)'].sum()-overcharged['Expected_cost'].sum()\n",
        "\n",
        "print(\"Total Orders where X has been overcharged = {}\".format(overcharged.shape[0]))\n",
        "print(\"Total overcharging amount = {}\".format(over_amount))"
      ],
      "metadata": {
        "colab": {
          "base_uri": "https://localhost:8080/"
        },
        "id": "VsUmWxHv-e8V",
        "outputId": "c47852ac-227e-4631-8637-93a418b81c5c"
      },
      "execution_count": 77,
      "outputs": [
        {
          "output_type": "stream",
          "name": "stdout",
          "text": [
            "Total Orders where X has been overcharged = 92\n",
            "Total overcharging amount = 4941.9\n"
          ]
        }
      ]
    },
    {
      "cell_type": "code",
      "source": [
        "import matplotlib.pyplot as plt\n",
        "\n",
        "# Data\n",
        "overcharged_count = overcharged.shape[0]\n",
        "correct_count = ds[ds['difference']==0].shape[0]\n",
        "\n",
        "# Plot\n",
        "labels = ['Overcharged', 'Correct']\n",
        "sizes = [overcharged_count, correct_count]\n",
        "fig1, ax1 = plt.subplots(figsize=(15,7))\n",
        "ax1.pie(sizes, labels=labels, autopct='%1.1f%%', shadow=True, startangle=90)\n",
        "ax1.axis('equal')\n",
        "plt.title(\"Comparison of Overcharged and Correctly Charged Orders\")\n",
        "plt.show()\n",
        "\n"
      ],
      "metadata": {
        "colab": {
          "base_uri": "https://localhost:8080/",
          "height": 427
        },
        "id": "0M4A_RJ0Difu",
        "outputId": "0edd2b2a-ceda-4b5b-a2e6-4e049667a351"
      },
      "execution_count": 143,
      "outputs": [
        {
          "output_type": "display_data",
          "data": {
            "text/plain": [
              "<Figure size 1080x504 with 1 Axes>"
            ],
            "image/png": "[encoded data removed]"
          },
          "metadata": {}
        }
      ]
    },
    {
      "cell_type": "code",
      "source": [
        "# total orders where x has been undercharged\n",
        "under_charged=ds[ds['Billing Amount (Rs.)']<ds['Expected_cost']]\n",
        "\n",
        "under_amount=under_charged['Expected_cost'].sum()-under_charged['Billing Amount (Rs.)'].sum()\n",
        "\n",
        "\n",
        "print(\"Total Orders where X has been overcharged = {}\".format(under_charged.shape[0]))\n",
        "print(\"Total overcharging amount = {}\".format(round(under_amount,2)))"
      ],
      "metadata": {
        "colab": {
          "base_uri": "https://localhost:8080/"
        },
        "id": "aVP7i4iD-htd",
        "outputId": "c0be7224-e1e7-41f5-e549-5f1a6b767e10"
      },
      "execution_count": 81,
      "outputs": [
        {
          "output_type": "stream",
          "name": "stdout",
          "text": [
            "Total Orders where X has been overcharged = 18\n",
            "Total overcharging amount = 517.3\n"
          ]
        }
      ]
    },
    {
      "cell_type": "code",
      "source": [
        "import matplotlib.pyplot as plt\n",
        "\n",
        "# Calculate the total number of orders and undercharged amount\n",
        "under_charged=ds[ds['Billing Amount (Rs.)']<ds['Expected_cost']]\n",
        "under_amount=under_charged['Expected_cost'].sum()-under_charged['Billing Amount (Rs.)'].sum()\n",
        "\n",
        "# Plot the bar chart\n",
        "plt.bar(['Orders', 'Undercharged Amount'], [under_charged.shape[0], under_amount])\n",
        "\n",
        "# Add title and labels to the plot\n",
        "plt.title('Undercharged Orders and Amount')\n",
        "plt.xlabel('Category')\n",
        "plt.ylabel('Value')\n",
        "\n",
        "# Show the plot\n",
        "plt.show()\n"
      ],
      "metadata": {
        "colab": {
          "base_uri": "https://localhost:8080/",
          "height": 295
        },
        "id": "E3MP9kAM-qei",
        "outputId": "5701a2d7-f433-46d6-9769-594a7eb452ed"
      },
      "execution_count": 125,
      "outputs": [
        {
          "output_type": "display_data",
          "data": {
            "text/plain": [
              "<Figure size 432x288 with 1 Axes>"
            ],
            "image/png": "[encoded data removed]"
          },
          "metadata": {
            "needs_background": "light"
          }
        }
      ]
    },
    {
      "cell_type": "code",
      "source": [
        "import pandas as pd\n",
        "\n",
        "data = {\n",
        "    'Invoice Type': ['Correctly Charged', 'Overcharged', 'Undercharged'],\n",
        "    'Count': [ds[ds['difference']==0].shape[0], overcharged.shape[0], under_charged.shape[0]],\n",
        "    'Amount (Rs.)': [ds[ds['difference']==0]['Expected_cost'].sum(), over_amount, round(under_amount,2)]\n",
        "}\n",
        "\n",
        "df = pd.DataFrame(data)\n",
        "print(df)\n"
      ],
      "metadata": {
        "colab": {
          "base_uri": "https://localhost:8080/"
        },
        "id": "UGzI4jQtRv5c",
        "outputId": "502e76db-bab5-42f7-dbbc-404baf7eb4a4"
      },
      "execution_count": 147,
      "outputs": [
        {
          "output_type": "stream",
          "name": "stdout",
          "text": [
            "        Invoice Type  Count  Amount (Rs.)\n",
            "0  Correctly Charged     14        1044.0\n",
            "1        Overcharged     92        4941.9\n",
            "2       Undercharged     18         517.3\n"
          ]
        }
      ]
    },
    {
      "cell_type": "code",
      "source": [
        "#df.to_excel(\"invoice_summary.xlsx\", index=False)"
      ],
      "metadata": {
        "id": "5nTZm-k_SyMI"
      },
      "execution_count": 148,
      "outputs": []
    }
  ]
}