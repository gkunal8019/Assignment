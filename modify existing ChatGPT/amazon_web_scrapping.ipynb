{
  "nbformat": 4,
  "nbformat_minor": 0,
  "metadata": {
    "colab": {
      "provenance": [],
      "authorship_tag": "ABX9TyOPYNj7FX/rjztBRbL6RnJX",
      "include_colab_link": true
    },
    "kernelspec": {
      "name": "python3",
      "display_name": "Python 3"
    },
    "language_info": {
      "name": "python"
    }
  },
  "cells": [
    {
      "cell_type": "markdown",
      "metadata": {
        "id": "view-in-github",
        "colab_type": "text"
      },
      "source": [
        "<a href=\"https://colab.research.google.com/github/gkunal8019/Assignment/blob/main/amazon_web_scrapping.ipynb\" target=\"_parent\"><img src=\"https://colab.research.google.com/assets/colab-badge.svg\" alt=\"Open In Colab\"/></a>"
      ]
    },
    {
      "cell_type": "code",
      "source": [
        "from bs4 import BeautifulSoup\n",
        "import requests\n",
        "import pandas as pd\n",
        "import numpy as np"
      ],
      "metadata": {
        "id": "ZyYKIDC3ZU4K"
      },
      "execution_count": 1,
      "outputs": []
    },
    {
      "cell_type": "code",
      "source": [
        "# Function to extract Product Title\n",
        "def get_title(soup):\n",
        "\n",
        "    try:\n",
        "        # Outer Tag Object\n",
        "        title = soup.find(\"span\", attrs={\"id\":'productTitle'})\n",
        "        \n",
        "        # Inner NavigatableString Object\n",
        "        title_value = title.text\n",
        "\n",
        "        # Title as a string value\n",
        "        title_string = title_value.strip()\n",
        "\n",
        "    except AttributeError:\n",
        "        title_string = \"\"\n",
        "\n",
        "    return title_string\n",
        "\n",
        "# Function to extract Product Price\n",
        "def get_price(soup):\n",
        "\n",
        "    try:\n",
        "        price = soup.find(\"span\", attrs={'id':'priceblock_ourprice'}).string.strip()\n",
        "\n",
        "    except AttributeError:\n",
        "\n",
        "        try:\n",
        "            # If there is some deal price\n",
        "            price = soup.find(\"span\", attrs={'id':'priceblock_dealprice'}).string.strip()\n",
        "\n",
        "        except:\n",
        "            price = \"\"\n",
        "\n",
        "    return price\n",
        "\n",
        "# Function to extract Product Rating\n",
        "def get_rating(soup):\n",
        "\n",
        "    try:\n",
        "        rating = soup.find(\"i\", attrs={'class':'a-icon a-icon-star a-star-4-5'}).string.strip()\n",
        "    \n",
        "    except AttributeError:\n",
        "        try:\n",
        "            rating = soup.find(\"span\", attrs={'class':'a-icon-alt'}).string.strip()\n",
        "        except:\n",
        "            rating = \"\"\t\n",
        "\n",
        "    return rating\n",
        "\n",
        "# Function to extract Number of User Reviews\n",
        "def get_review_count(soup):\n",
        "    try:\n",
        "        review_count = soup.find(\"span\", attrs={'id':'acrCustomerReviewText'}).string.strip()\n",
        "\n",
        "    except AttributeError:\n",
        "        review_count = \"\"\t\n",
        "\n",
        "    return review_count\n",
        "\n",
        "# Function to extract Availability Status\n",
        "def get_availability(soup):\n",
        "    try:\n",
        "        available = soup.find(\"div\", attrs={'id':'availability'})\n",
        "        available = available.find(\"span\").string.strip()\n",
        "\n",
        "    except AttributeError:\n",
        "        available = \"Not Available\"\t\n",
        "\n",
        "    return available"
      ],
      "metadata": {
        "id": "WuAezjIzdGcR"
      },
      "execution_count": 2,
      "outputs": []
    },
    {
      "cell_type": "code",
      "source": [
        "if __name__ == '__main__':\n",
        "\n",
        "    # add your user agent \n",
        "    HEADERS = ({'User-Agent':'', 'Accept-Language': 'en-US, en;q=0.5'})\n",
        "\n",
        "    # The webpage URL\n",
        "    URL = \"https://www.amazon.com/s?k=playstation+4&ref=nb_sb_noss_2\"\n",
        "    #URL= \"https://www.amazon.in/s?rh=n%3A1375424031&fs=true&ref=lp_1375424031_sar\"\n",
        "    #URL = \"https://www.amazon.com/s?bbn=16225007011&rh=n%3A16225007011%2Cn%3A13896617011&dc&fst=as%3Aoff&pd_rd_r=5c04573e-5d2a-4f40-ac0b-fd2a5c6f501a&pd_rd_w=mU6qz&pd_rd_wg=5D6fv&pf_rd_p=5b7fc375-ab40-4cc0-8c62-01d4de8b648d&pf_rd_r=6616WNB48T67V25MMP1E&qid=1602294815&rnid=16225007011&ref=pd_gw_unk\"\n",
        "    # HTTP Request\n",
        "    webpage = requests.get(URL, headers=HEADERS)\n",
        "\n",
        "    # Soup Object containing all data\n",
        "    soup = BeautifulSoup(webpage.content, \"html.parser\")\n",
        "\n",
        "    # Fetch links as List of Tag Objects\n",
        "    links = soup.find_all(\"a\", attrs={'class':'a-link-normal s-no-outline'})\n",
        "\n",
        "    # Store the links\n",
        "    links_list = []\n",
        "\n",
        "    # Loop for extracting links from Tag Objects\n",
        "    for link in links:\n",
        "            links_list.append(link.get('href'))\n",
        "\n",
        "    d = {\"title\":[], \"price\":[], \"rating\":[], \"reviews\":[],\"availability\":[]}\n",
        "    \n",
        "    # Loop for extracting product details from each link \n",
        "    for link in links_list:\n",
        "        new_webpage = requests.get(\"https://www.amazon.com\" + link, headers=HEADERS)\n",
        "\n",
        "        new_soup = BeautifulSoup(new_webpage.content, \"html.parser\")\n",
        "\n",
        "        # Function calls to display all necessary product information\n",
        "        d['title'].append(get_title(new_soup))\n",
        "        d['price'].append(get_price(new_soup))\n",
        "        d['rating'].append(get_rating(new_soup))\n",
        "        d['reviews'].append(get_review_count(new_soup))\n",
        "        d['availability'].append(get_availability(new_soup))\n",
        "\n",
        "    \n",
        "    amazon_df = pd.DataFrame.from_dict(d)\n",
        "    amazon_df['title'].replace('', np.nan, inplace=True)\n",
        "    amazon_df = amazon_df.dropna(subset=['title'])\n",
        "    amazon_df.to_csv(\"amazon_data.csv\", header=True, index=False)"
      ],
      "metadata": {
        "id": "DQb-pRFCdODK"
      },
      "execution_count": 26,
      "outputs": []
    },
    {
      "cell_type": "code",
      "source": [
        "amazon_df.info()"
      ],
      "metadata": {
        "id": "S6ztGBZOdS5q",
        "colab": {
          "base_uri": "https://localhost:8080/"
        },
        "outputId": "bfb2ca8c-769e-407c-b6c2-1febae46a369"
      },
      "execution_count": 27,
      "outputs": [
        {
          "output_type": "stream",
          "name": "stdout",
          "text": [
            "<class 'pandas.core.frame.DataFrame'>\n",
            "Int64Index: 42 entries, 0 to 41\n",
            "Data columns (total 5 columns):\n",
            " #   Column        Non-Null Count  Dtype \n",
            "---  ------        --------------  ----- \n",
            " 0   title         42 non-null     object\n",
            " 1   price         42 non-null     object\n",
            " 2   rating        42 non-null     object\n",
            " 3   reviews       42 non-null     object\n",
            " 4   availability  42 non-null     object\n",
            "dtypes: object(5)\n",
            "memory usage: 2.0+ KB\n"
          ]
        }
      ]
    },
    {
      "cell_type": "code",
      "source": [
        "amazon_df.to_csv('amazon_df.txt', sep='\\t', index=False)"
      ],
      "metadata": {
        "id": "z0_uWTEcgSMj"
      },
      "execution_count": 28,
      "outputs": []
    },
    {
      "cell_type": "code",
      "source": [
        "with open('/content/amazon_df.txt') as f:\n",
        "    lines = f.readlines()"
      ],
      "metadata": {
        "id": "-yms3N2mh8ku"
      },
      "execution_count": 29,
      "outputs": []
    },
    {
      "cell_type": "code",
      "source": [
        "lines"
      ],
      "metadata": {
        "colab": {
          "base_uri": "https://localhost:8080/"
        },
        "id": "Y9r2_1KCid2H",
        "outputId": "5e85d4e1-29a6-4fa0-bcb0-b390e68230dc"
      },
      "execution_count": 30,
      "outputs": [
        {
          "output_type": "execute_result",
          "data": {
            "text/plain": [
              "['title\\tprice\\trating\\treviews\\tavailability\\n',\n",
              " 'Sony Playstation PS4 1TB Black Console\\t\\t4.7 out of 5 stars\\t968 ratings\\tIn Stock\\n',\n",
              " 'PlayStation 4 500GB Console (Renewed)\\t\\t4.0 out of 5 stars\\t381 ratings\\tOnly 5 left in stock - order soon.\\n',\n",
              " 'PlayStation 4 Slim 1TB Console (Renewed)\\t\\t4.3 out of 5 stars\\t1,019 ratings\\tOnly 20 left in stock - order soon.\\n',\n",
              " 'PlayStation 4 Slim 500GB Console [Discontinued] (Renewed)\\t\\t4.5 out of 5 stars\\t1,243 ratings\\tIn Stock.\\n',\n",
              " 'PlayStation 4 Slim 1TB Console - Black (Renewed)\\t\\t4.5 out of 5 stars\\t1,211 ratings\\tIn Stock.\\n',\n",
              " 'Sony PlayStation 2 Console - Black (Renewed)\\t\\t4.3 out of 5 stars\\t1,099 ratings\\tOnly 14 left in stock - order soon.\\n',\n",
              " 'PlayStation 4 Slim 1TB Console (Renewed)\\t\\t4.3 out of 5 stars\\t1,019 ratings\\tOnly 20 left in stock - order soon.\\n',\n",
              " 'PlayStation 2 Slim Console PS2 (Renewed)\\t\\t4.2 out of 5 stars\\t936 ratings\\tOnly 3 left in stock - order soon.\\n',\n",
              " 'Playstation SONY 4, 500GB Slim System [CUH-2215AB01], Black, 3003347 (Renewed)\\t\\t4.7 out of 5 stars\\t329 ratings\\tIn Stock.\\n',\n",
              " 'Playstation 2 Console - Black (Renewed)\\t\\t4.2 out of 5 stars\\t311 ratings\\tOnly 3 left in stock - order soon.\\n',\n",
              " 'PlayStation 4 Slim 1TB Console - Marvels Spider-Man Bundle (Renewed)\\t\\t4.4 out of 5 stars\\t307 ratings\\tIn Stock.\\n',\n",
              " 'PlayStation 4 Slim 1TB Console - Black (Renewed)\\t\\t4.5 out of 5 stars\\t1,211 ratings\\tIn Stock.\\n',\n",
              " 'Sony PlayStation 4 Pro w/ Accessories, 1TB HDD, CUH-7215B - Jet Black (Renewed)\\t\\t4.0 out of 5 stars\\t449 ratings\\tIn Stock.\\n',\n",
              " 'TXTHcpo Wireless Controller for PS4 Remote, P4 Gamepad for Playstation 4/Pro/Slim Console Gaming Control with Headset Jack Dual Vibration Speaker Touch Pad Six-axis Motion Control Skull\\t\\tPrevious page of related Sponsored Products\\t\\tIn Stock\\n',\n",
              " 'PlayStation 4 Console - 1TB Slim Edition (Renewed)\\t\\t4.7 out of 5 stars\\t25 ratings\\tIn Stock.\\n',\n",
              " 'BlueFire Professional 3.5mm PS4 Gaming Headset Headphone with Mic and LED Lights for Playstation 4, PS5, Xbox one,Laptop, Computer (Blue)\\t\\t4.4 out of 5 stars\\t8,373 ratings\\tIn Stock\\n',\n",
              " 'PlayStation 4 500GB Console [Old Model][Discontinued]\\t\\t4.6 out of 5 stars\\t13,631 ratings\\tOnly 1 left in stock - order soon\\n',\n",
              " 'Sony Dualshock 4 Wireless Controller for PlayStation 4 - Glacier White - PlayStation 4\\t\\t4.6 out of 5 stars\\t1,240 ratings\\tIn Stock\\n',\n",
              " 'DualShock 4 Wireless Controller for PlayStation 4 - Jet Black\\t\\t4.7 out of 5 stars\\t144,428 ratings\\tIn Stock\\n',\n",
              " 'Logitech G Dual-Motor Feedback Driving Force G29 Gaming Racing Wheel with Responsive Pedals for PlayStation 5, 4 and 3 - Black\\t\\t4.7 out of 5 stars\\t15,940 ratings\\tIn Stock\\n',\n",
              " \"Newest Sony Playstation 4 Slim 1TB SSD Console - Marvel's Spider-Man PS4 Bundle with DualShock-4 Wireless Controller\\t\\t4.5 out of 5 stars\\t263 ratings\\tIn Stock\\n\",\n",
              " 'PAC-MAN World Re-PAC - PlayStation 4\\t\\t4.7 out of 5 stars\\t151 ratings\\tIn Stock\\n',\n",
              " '2 Pack Wireless Controller for Playstation 4, Qyszy88 Wireless Controller for Sony PS4/Pro/Slim/, with Double Shock/Stereo Headset Jack/Touch Pad/Six-axis Motion Control，Great Gamepad Gift (Blue+Purple)\\t\\t4.3 out of 5 stars\\t467 ratings\\tIn Stock\\n',\n",
              " 'DualShock 4 Wireless Controller for PlayStation 4 - Jet Black (Renewed)\\t\\t4.2 out of 5 stars\\t1,000 ratings\\tIn Stock.\\n',\n",
              " 'Wireless Controller for PS4/Pro/Slim Consoles，Game Remote Controller with 6-Axis Motion Sensor/Audio Function/Charging Cable-Red\\t\\t4.3 out of 5 stars\\t87 ratings\\tIn Stock\\n',\n",
              " 'Sony Playstation 4 Dual Shock 4 Controller\\t\\t4.6 out of 5 stars\\t2,047 ratings\\tIn Stock\\n',\n",
              " 'Wireless Controller for PS-4 Compatible with PS-4/Slim/Pro, Built-in 1000mAh Battery with Turbo/Dual Vibration/6-Axis Motion Sensor\\t\\t4.5 out of 5 stars\\t83 ratings\\tIn Stock\\n',\n",
              " 'SAMINRA Replacement for PS4 Controller with 2 Thumb Grips, Design Starry Sky Custom V2 Wireless Game Controllers, Compatible with PS4, Slim, Pro and Windows PC\\t\\t4.4 out of 5 stars\\t27 ratings\\tIn Stock\\n',\n",
              " 'DualShock 4 Wireless Controller for PlayStation 4 - Magma Red\\t\\t4.7 out of 5 stars\\t144,428 ratings\\tIn Stock\\n',\n",
              " 'GSRMQYQ Wireless Controller Compatible with PS-4/PS-4 Slim/PS-4 Pro,with Dual Vibration Game Joystick\\t\\t4.4 out of 5 stars\\t69 ratings\\tIn Stock\\n',\n",
              " 'PS4 Controller Wireless, with USB Cable/1000mAh Battery/Dual Vibration/6-Axis Motion Control/3.5mm Audio Jack/Multi Touch Pad/Share Button, PS4 Controller Compatible with PS4/Slim/Pro/PC\\t\\t4.3 out of 5 stars\\t316 ratings\\tIn Stock\\n',\n",
              " 'PlayStation 4 Slim 1TB Console\\t\\t4.7 out of 5 stars\\t15,345 ratings\\t\\n',\n",
              " 'DualShock 4 Wireless Controller for PlayStation 4 - Jet Black\\t\\t4.7 out of 5 stars\\t144,428 ratings\\tIn Stock\\n',\n",
              " '2 Pack Wireless Controller for Playstation 4, Qyszy88 Wireless Controller for Sony PS4/Pro/Slim/, with Double Shock/Stereo Headset Jack/Touch Pad/Six-axis Motion Control，Great Gamepad Gift (Blue+Purple)\\t\\t4.3 out of 5 stars\\t467 ratings\\tIn Stock\\n',\n",
              " 'DualShock 4 Wireless Controller for PlayStation 4 - Magma Red\\t\\t4.7 out of 5 stars\\t144,428 ratings\\tIn Stock\\n',\n",
              " '$100 PlayStation Store Gift Card [Digital Code]\\t\\t4.7 out of 5 stars\\t253,333 ratings\\tAvailable now\\n',\n",
              " 'PlayStation PS5 Console – God of War Ragnarök Bundle\\t\\t4.8 out of 5 stars\\t4,822 ratings\\tIn Stock\\n',\n",
              " 'PlayStation 4 Slim 1TB Console - Black (Renewed)\\t\\t4.5 out of 5 stars\\t1,211 ratings\\tIn Stock.\\n',\n",
              " 'BlueFire Professional 3.5mm PS4 Gaming Headset Headphone with Mic and LED Lights for Playstation 4, PS5, Xbox one,Laptop, Computer (Blue)\\t\\t4.4 out of 5 stars\\t8,373 ratings\\tIn Stock\\n',\n",
              " \"Marvel's Avengers for PlayStation 4 with Free Upgrade to the Digital PS5 Version\\t\\t4.4 out of 5 stars\\t10,091 ratings\\tOnly 1 left in stock - order soon\\n\",\n",
              " 'PS4 Fan Cooling Fan with Controller Charger Compatible with Playstation 4/PS4 Slim/PS4 Pro, PS4 Stand Vertical Cooling Station for PS4 Accessories,PS4 Pro Cooling Fan with Dual Charger & 12 Game Slots\\t\\t4.3 out of 5 stars\\t1,252 ratings\\tIn Stock\\n',\n",
              " 'HyperX Cloud Stinger Core - Gaming Headset for PlayStation 4 and 5, Over-Ear Wired Headset with Mic, Passive Noise Cancelling, Immersive In-Game Audio, In-Line Audio Control, Black\\t\\t4.5 out of 5 stars\\t25,396 ratings\\tIn Stock\\n']"
            ]
          },
          "metadata": {},
          "execution_count": 30
        }
      ]
    },
    {
      "cell_type": "code",
      "source": [],
      "metadata": {
        "id": "wiZEj5khihfx"
      },
      "execution_count": null,
      "outputs": []
    }
  ]
}